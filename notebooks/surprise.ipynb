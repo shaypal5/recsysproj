{
 "cells": [
  {
   "cell_type": "markdown",
   "id": "3c61bb19-8062-439f-90c8-8c383650b81a",
   "metadata": {},
   "source": [
    "# Recommending with surprise"
   ]
  },
  {
   "cell_type": "markdown",
   "id": "18f6e8e5-5744-43b1-ac2f-9b26aca617b1",
   "metadata": {},
   "source": [
    "## Preliminaries"
   ]
  },
  {
   "cell_type": "markdown",
   "id": "3adfb796-7a6d-48dc-b49d-2fb3d59a1e97",
   "metadata": {
    "tags": []
   },
   "source": [
    "### imports"
   ]
  },
  {
   "cell_type": "code",
   "execution_count": 1,
   "id": "07933464-74a1-4781-ab74-5d746cd27950",
   "metadata": {},
   "outputs": [],
   "source": [
    "import pickle\n",
    "import random\n",
    "from time import time\n",
    "from typing import Tuple, List"
   ]
  },
  {
   "cell_type": "code",
   "execution_count": 2,
   "id": "c2454e2f-875b-4aad-a1ce-7b52478ba0a4",
   "metadata": {},
   "outputs": [],
   "source": [
    "import numpy as np\n",
    "import pandas as pd"
   ]
  },
  {
   "cell_type": "code",
   "execution_count": 3,
   "id": "94790dfb-7714-4567-b9e7-25c9c19c7762",
   "metadata": {},
   "outputs": [],
   "source": [
    "import surprise"
   ]
  },
  {
   "cell_type": "code",
   "execution_count": 4,
   "id": "7d852101-6d65-4e8f-bba0-b32ede6b6a5a",
   "metadata": {},
   "outputs": [],
   "source": [
    "from surprise.reader import Reader\n",
    "from surprise import Trainset\n",
    "from surprise import Dataset\n",
    "from surprise.model_selection import PredefinedKFold"
   ]
  },
  {
   "cell_type": "markdown",
   "id": "9ab6f52f-6229-4198-aed1-41ae081fb78d",
   "metadata": {},
   "source": [
    "### Fix experiment stochasity"
   ]
  },
  {
   "cell_type": "code",
   "execution_count": 5,
   "id": "825d2198-9788-4660-8653-984fc3f3094f",
   "metadata": {},
   "outputs": [],
   "source": [
    "my_seed = 0\n",
    "random.seed(my_seed)\n",
    "np.random.seed(my_seed)"
   ]
  },
  {
   "cell_type": "markdown",
   "id": "df2aaaba-552e-439d-9bbd-7ad4e04276b8",
   "metadata": {
    "tags": []
   },
   "source": [
    "## Load surprise dataset"
   ]
  },
  {
   "cell_type": "code",
   "execution_count": 6,
   "id": "50d2ab3f-4284-4c19-b927-324431bfe2cf",
   "metadata": {},
   "outputs": [],
   "source": [
    "reader = Reader(\n",
    "    line_format='user item rating',\n",
    "    sep=',',\n",
    "    rating_scale=(1, 5),\n",
    ")   "
   ]
  },
  {
   "cell_type": "code",
   "execution_count": 7,
   "id": "9f5b3a65-4931-4761-8c6e-1e1e1086ac88",
   "metadata": {},
   "outputs": [],
   "source": [
    "folded_trainval_dataset = Dataset.load_from_folds(\n",
    "    folds_files=(\n",
    "        ('data/train_for_week_4.csv', 'data/val_for_week_4.csv'),\n",
    "        ('data/train_for_week_5.csv', 'data/val_for_week_5.csv'),\n",
    "        ('data/train_for_week_6.csv', 'data/val_for_week_6.csv'),\n",
    "    ),\n",
    "    reader=reader,\n",
    ")"
   ]
  },
  {
   "cell_type": "code",
   "execution_count": 8,
   "id": "9f5e6c0d-25d9-44ab-91ce-9b8f339fb4c1",
   "metadata": {},
   "outputs": [
    {
     "data": {
      "text/plain": [
       "<surprise.dataset.DatasetUserFolds at 0x11fa83790>"
      ]
     },
     "execution_count": 8,
     "metadata": {},
     "output_type": "execute_result"
    }
   ],
   "source": [
    "folded_trainval_dataset"
   ]
  },
  {
   "cell_type": "code",
   "execution_count": 9,
   "id": "99c55683-3a8b-4e51-bb44-e3e44010b356",
   "metadata": {},
   "outputs": [],
   "source": [
    "unfolded_trainval_dataset = Dataset.load_from_file(\n",
    "    file_path='data/trainval_weeks_1_to_7.csv',\n",
    "    reader=reader,\n",
    ")"
   ]
  },
  {
   "cell_type": "code",
   "execution_count": 10,
   "id": "98e10543-2fd6-4c1e-a852-ecbb07e9725c",
   "metadata": {},
   "outputs": [
    {
     "data": {
      "text/plain": [
       "<surprise.dataset.DatasetAutoFolds at 0x11fa83610>"
      ]
     },
     "execution_count": 10,
     "metadata": {},
     "output_type": "execute_result"
    }
   ],
   "source": [
    "unfolded_trainval_dataset"
   ]
  },
  {
   "cell_type": "code",
   "execution_count": 11,
   "id": "0a534683-2397-4ddd-9bce-34538868ee16",
   "metadata": {},
   "outputs": [],
   "source": [
    "full_trainset_unfolded_trainval_dataset = unfolded_trainval_dataset.build_full_trainset()\n",
    "full_testset_unfolded_trainval_dataset = full_trainset_unfolded_trainval_dataset.build_testset()"
   ]
  },
  {
   "cell_type": "code",
   "execution_count": 12,
   "id": "eed0f263-41ab-4f2a-9290-b7de34e5573f",
   "metadata": {},
   "outputs": [
    {
     "data": {
      "text/plain": [
       "<surprise.dataset.DatasetAutoFolds at 0x11f52f0d0>"
      ]
     },
     "execution_count": 12,
     "metadata": {},
     "output_type": "execute_result"
    }
   ],
   "source": [
    "test_dataset = Dataset.load_from_file(\n",
    "    file_path='data/test_weeks_8_to_9.csv',\n",
    "    reader=reader,\n",
    ")\n",
    "test_dataset"
   ]
  },
  {
   "cell_type": "code",
   "execution_count": 13,
   "id": "73006576-23e6-45e1-abc8-ff2e6ecf4cb6",
   "metadata": {},
   "outputs": [],
   "source": [
    "testset_for_test_dataset = test_dataset.build_full_trainset().build_testset()"
   ]
  },
  {
   "cell_type": "markdown",
   "id": "b10178fd-3f58-4f07-b2ab-462b40d253b1",
   "metadata": {
    "tags": []
   },
   "source": [
    "## Models"
   ]
  },
  {
   "cell_type": "code",
   "execution_count": 14,
   "id": "5b943897-3e4f-4c85-9e68-482391412473",
   "metadata": {},
   "outputs": [],
   "source": [
    "from surprise import (\n",
    "    SVD,\n",
    "    NormalPredictor,\n",
    ")\n",
    "from surprise.model_selection import GridSearchCV"
   ]
  },
  {
   "cell_type": "code",
   "execution_count": 15,
   "id": "31abf38c-6668-4252-acbf-43f0d410b23f",
   "metadata": {},
   "outputs": [],
   "source": [
    "from surprise import accuracy"
   ]
  },
  {
   "cell_type": "markdown",
   "id": "197b540e-f6f9-4897-b306-3554cc96e90f",
   "metadata": {},
   "source": [
    "## Prototyping CV code"
   ]
  },
  {
   "cell_type": "markdown",
   "id": "7afb0ed3-f4b8-483b-bc61-f61e75a4cc70",
   "metadata": {
    "tags": []
   },
   "source": [
    "### Baseline 1 - NormalPredictor"
   ]
  },
  {
   "cell_type": "code",
   "execution_count": 7,
   "id": "c34fdfdf-a661-4333-8605-a7f3ec537832",
   "metadata": {},
   "outputs": [],
   "source": [
    "pkf = PredefinedKFold()"
   ]
  },
  {
   "cell_type": "code",
   "execution_count": 8,
   "id": "da10e45a-c67d-4352-8e72-c691a51fd023",
   "metadata": {},
   "outputs": [
    {
     "name": "stdout",
     "output_type": "stream",
     "text": [
      "RMSE: 1.8658\n",
      "MSE: 3.4813\n",
      "MAE:  1.4218\n",
      "RMSE: 1.8662\n",
      "MSE: 3.4828\n",
      "MAE:  1.4227\n",
      "RMSE: 1.8697\n",
      "MSE: 3.4956\n",
      "MAE:  1.4261\n"
     ]
    }
   ],
   "source": [
    "algo = NormalPredictor()\n",
    "\n",
    "rmse_vals = []\n",
    "mse_vals = []\n",
    "mae_vals = []\n",
    "for trainset, testset in pkf.split(dataset):\n",
    "\n",
    "    # train and test algorithm.\n",
    "    algo.fit(trainset)\n",
    "    predictions = algo.test(testset)\n",
    "\n",
    "    # Compute and print Root Mean Squared Error\n",
    "    rmse_vals.append(accuracy.rmse(predictions, verbose=True))\n",
    "    mse_vals.append(accuracy.mse(predictions, verbose=True))\n",
    "    mae_vals.append(accuracy.mae(predictions, verbose=True))"
   ]
  },
  {
   "cell_type": "code",
   "execution_count": 9,
   "id": "2b902992-eaad-446f-bd3f-3254284f3691",
   "metadata": {},
   "outputs": [
    {
     "data": {
      "text/plain": [
       "[1.8658342471592386, 1.8662267000996486, 1.8696625436523928]"
      ]
     },
     "execution_count": 9,
     "metadata": {},
     "output_type": "execute_result"
    }
   ],
   "source": [
    "rmse_vals"
   ]
  },
  {
   "cell_type": "markdown",
   "id": "c06d9416-9432-4ee8-a1a8-40ef1b902570",
   "metadata": {},
   "source": [
    "### Prototype CV"
   ]
  },
  {
   "cell_type": "code",
   "execution_count": 26,
   "id": "4af5f653-4842-4e03-99d1-14b5c3b0863c",
   "metadata": {},
   "outputs": [
    {
     "name": "stdout",
     "output_type": "stream",
     "text": [
      "[Parallel(n_jobs=-1)]: Using backend LokyBackend with 8 concurrent workers.\n",
      "[Parallel(n_jobs=-1)]: Done   1 tasks      | elapsed:  1.1min\n",
      "[Parallel(n_jobs=-1)]: Done   2 tasks      | elapsed:  1.2min\n",
      "[Parallel(n_jobs=-1)]: Done   3 tasks      | elapsed:  1.3min\n",
      "[Parallel(n_jobs=-1)]: Done   4 out of  18 | elapsed:  1.4min remaining:  4.9min\n",
      "[Parallel(n_jobs=-1)]: Done   5 out of  18 | elapsed:  1.5min remaining:  3.8min\n",
      "[Parallel(n_jobs=-1)]: Done   6 out of  18 | elapsed:  1.5min remaining:  3.1min\n",
      "[Parallel(n_jobs=-1)]: Done   7 out of  18 | elapsed:  1.6min remaining:  2.5min\n",
      "[Parallel(n_jobs=-1)]: Done   8 out of  18 | elapsed:  1.6min remaining:  2.1min\n",
      "[Parallel(n_jobs=-1)]: Done   9 out of  18 | elapsed:  2.6min remaining:  2.6min\n",
      "[Parallel(n_jobs=-1)]: Done  10 out of  18 | elapsed:  7.3min remaining:  5.8min\n",
      "[Parallel(n_jobs=-1)]: Done  11 out of  18 | elapsed:  7.7min remaining:  4.9min\n",
      "[Parallel(n_jobs=-1)]: Done  12 out of  18 | elapsed:  7.8min remaining:  3.9min\n",
      "[Parallel(n_jobs=-1)]: Done  13 out of  18 | elapsed:  7.9min remaining:  3.0min\n",
      "[Parallel(n_jobs=-1)]: Done  14 out of  18 | elapsed:  7.9min remaining:  2.3min\n",
      "[Parallel(n_jobs=-1)]: Done  15 out of  18 | elapsed:  7.9min remaining:  1.6min\n",
      "[Parallel(n_jobs=-1)]: Done  16 out of  18 | elapsed:  8.0min remaining:   59.6s\n",
      "[Parallel(n_jobs=-1)]: Done  18 out of  18 | elapsed: 10.7min remaining:    0.0s\n",
      "[Parallel(n_jobs=-1)]: Done  18 out of  18 | elapsed: 10.7min finished\n"
     ]
    }
   ],
   "source": [
    "pkf = PredefinedKFold()\n",
    "\n",
    "param_grid = {'n_epochs': [5, 10, 20], 'lr_all': [0.02, 0.005, 0.01]}\n",
    "grid_search = GridSearchCV(\n",
    "    SVD, param_grid, measures=['rmse'], cv=pkf,\n",
    "    n_jobs=-1,\n",
    "    # pre_dispatch=4,\n",
    "    joblib_verbose=51,\n",
    ")\n",
    "grid_search.fit(trainval_dataset)\n",
    "\n",
    "algo = grid_search.best_estimator['rmse']\n",
    "\n",
    "# # retrain on the whole set A\n",
    "# trainset = data.build_full_trainset()\n",
    "# algo.fit(trainset)\n",
    "\n",
    "# # Compute biased accuracy on A\n",
    "# predictions = algo.test(trainset.build_testset())\n",
    "# print('Biased accuracy on A,', end='   ')\n",
    "# accuracy.rmse(predictions)\n",
    "\n",
    "# # Compute unbiased accuracy on B\n",
    "# testset = data.construct_testset(B_raw_ratings)  # testset is now the set B\n",
    "# predictions = algo.test(testset)\n",
    "# print('Unbiased accuracy on B,', end=' ')\n",
    "# accuracy.rmse(predictions)"
   ]
  },
  {
   "cell_type": "code",
   "execution_count": 29,
   "id": "5bba1580-4705-4471-92f1-ee00d17943d7",
   "metadata": {},
   "outputs": [
    {
     "data": {
      "text/html": [
       "<div>\n",
       "<style scoped>\n",
       "    .dataframe tbody tr th:only-of-type {\n",
       "        vertical-align: middle;\n",
       "    }\n",
       "\n",
       "    .dataframe tbody tr th {\n",
       "        vertical-align: top;\n",
       "    }\n",
       "\n",
       "    .dataframe thead th {\n",
       "        text-align: right;\n",
       "    }\n",
       "</style>\n",
       "<table border=\"1\" class=\"dataframe\">\n",
       "  <thead>\n",
       "    <tr style=\"text-align: right;\">\n",
       "      <th></th>\n",
       "      <th>split0_test_rmse</th>\n",
       "      <th>split1_test_rmse</th>\n",
       "      <th>split2_test_rmse</th>\n",
       "      <th>mean_test_rmse</th>\n",
       "      <th>std_test_rmse</th>\n",
       "      <th>rank_test_rmse</th>\n",
       "      <th>mean_fit_time</th>\n",
       "      <th>std_fit_time</th>\n",
       "      <th>mean_test_time</th>\n",
       "      <th>std_test_time</th>\n",
       "      <th>params</th>\n",
       "      <th>param_n_epochs</th>\n",
       "      <th>param_lr_all</th>\n",
       "    </tr>\n",
       "  </thead>\n",
       "  <tbody>\n",
       "    <tr>\n",
       "      <th>0</th>\n",
       "      <td>1.369322</td>\n",
       "      <td>1.369509</td>\n",
       "      <td>1.369781</td>\n",
       "      <td>1.369537</td>\n",
       "      <td>0.000188</td>\n",
       "      <td>1</td>\n",
       "      <td>51.999236</td>\n",
       "      <td>3.109121</td>\n",
       "      <td>15.250752</td>\n",
       "      <td>0.516919</td>\n",
       "      <td>{'n_epochs': 10, 'lr_all': 0.005}</td>\n",
       "      <td>10</td>\n",
       "      <td>0.005</td>\n",
       "    </tr>\n",
       "    <tr>\n",
       "      <th>1</th>\n",
       "      <td>1.376567</td>\n",
       "      <td>1.377377</td>\n",
       "      <td>1.376774</td>\n",
       "      <td>1.376906</td>\n",
       "      <td>0.000344</td>\n",
       "      <td>2</td>\n",
       "      <td>58.687739</td>\n",
       "      <td>0.664675</td>\n",
       "      <td>16.014069</td>\n",
       "      <td>0.163058</td>\n",
       "      <td>{'n_epochs': 10, 'lr_all': 0.01}</td>\n",
       "      <td>10</td>\n",
       "      <td>0.010</td>\n",
       "    </tr>\n",
       "    <tr>\n",
       "      <th>2</th>\n",
       "      <td>1.407132</td>\n",
       "      <td>1.406298</td>\n",
       "      <td>1.406425</td>\n",
       "      <td>1.406618</td>\n",
       "      <td>0.000367</td>\n",
       "      <td>6</td>\n",
       "      <td>62.739012</td>\n",
       "      <td>4.752382</td>\n",
       "      <td>16.443484</td>\n",
       "      <td>0.721562</td>\n",
       "      <td>{'n_epochs': 10, 'lr_all': 0.1}</td>\n",
       "      <td>10</td>\n",
       "      <td>0.100</td>\n",
       "    </tr>\n",
       "    <tr>\n",
       "      <th>3</th>\n",
       "      <td>1.386151</td>\n",
       "      <td>1.385178</td>\n",
       "      <td>1.385121</td>\n",
       "      <td>1.385483</td>\n",
       "      <td>0.000472</td>\n",
       "      <td>3</td>\n",
       "      <td>342.950832</td>\n",
       "      <td>6.344473</td>\n",
       "      <td>27.421346</td>\n",
       "      <td>3.329025</td>\n",
       "      <td>{'n_epochs': 50, 'lr_all': 0.005}</td>\n",
       "      <td>50</td>\n",
       "      <td>0.005</td>\n",
       "    </tr>\n",
       "    <tr>\n",
       "      <th>4</th>\n",
       "      <td>1.386127</td>\n",
       "      <td>1.385602</td>\n",
       "      <td>1.385951</td>\n",
       "      <td>1.385893</td>\n",
       "      <td>0.000218</td>\n",
       "      <td>4</td>\n",
       "      <td>347.730069</td>\n",
       "      <td>6.009606</td>\n",
       "      <td>27.808594</td>\n",
       "      <td>0.849362</td>\n",
       "      <td>{'n_epochs': 50, 'lr_all': 0.01}</td>\n",
       "      <td>50</td>\n",
       "      <td>0.010</td>\n",
       "    </tr>\n",
       "    <tr>\n",
       "      <th>5</th>\n",
       "      <td>1.390280</td>\n",
       "      <td>1.391332</td>\n",
       "      <td>1.392239</td>\n",
       "      <td>1.391283</td>\n",
       "      <td>0.000800</td>\n",
       "      <td>5</td>\n",
       "      <td>291.377803</td>\n",
       "      <td>71.154073</td>\n",
       "      <td>12.476135</td>\n",
       "      <td>7.593410</td>\n",
       "      <td>{'n_epochs': 50, 'lr_all': 0.1}</td>\n",
       "      <td>50</td>\n",
       "      <td>0.100</td>\n",
       "    </tr>\n",
       "  </tbody>\n",
       "</table>\n",
       "</div>"
      ],
      "text/plain": [
       "   split0_test_rmse  split1_test_rmse  split2_test_rmse  mean_test_rmse  \\\n",
       "0          1.369322          1.369509          1.369781        1.369537   \n",
       "1          1.376567          1.377377          1.376774        1.376906   \n",
       "2          1.407132          1.406298          1.406425        1.406618   \n",
       "3          1.386151          1.385178          1.385121        1.385483   \n",
       "4          1.386127          1.385602          1.385951        1.385893   \n",
       "5          1.390280          1.391332          1.392239        1.391283   \n",
       "\n",
       "   std_test_rmse  rank_test_rmse  mean_fit_time  std_fit_time  mean_test_time  \\\n",
       "0       0.000188               1      51.999236      3.109121       15.250752   \n",
       "1       0.000344               2      58.687739      0.664675       16.014069   \n",
       "2       0.000367               6      62.739012      4.752382       16.443484   \n",
       "3       0.000472               3     342.950832      6.344473       27.421346   \n",
       "4       0.000218               4     347.730069      6.009606       27.808594   \n",
       "5       0.000800               5     291.377803     71.154073       12.476135   \n",
       "\n",
       "   std_test_time                             params  param_n_epochs  \\\n",
       "0       0.516919  {'n_epochs': 10, 'lr_all': 0.005}              10   \n",
       "1       0.163058   {'n_epochs': 10, 'lr_all': 0.01}              10   \n",
       "2       0.721562    {'n_epochs': 10, 'lr_all': 0.1}              10   \n",
       "3       3.329025  {'n_epochs': 50, 'lr_all': 0.005}              50   \n",
       "4       0.849362   {'n_epochs': 50, 'lr_all': 0.01}              50   \n",
       "5       7.593410    {'n_epochs': 50, 'lr_all': 0.1}              50   \n",
       "\n",
       "   param_lr_all  \n",
       "0         0.005  \n",
       "1         0.010  \n",
       "2         0.100  \n",
       "3         0.005  \n",
       "4         0.010  \n",
       "5         0.100  "
      ]
     },
     "execution_count": 29,
     "metadata": {},
     "output_type": "execute_result"
    }
   ],
   "source": [
    "res_df = pd.DataFrame(grid_search.cv_results)\n",
    "res_df"
   ]
  },
  {
   "cell_type": "code",
   "execution_count": 32,
   "id": "b09340ea-d4a9-44c1-85c0-11fa7154bf2a",
   "metadata": {},
   "outputs": [
    {
     "data": {
      "text/plain": [
       "split0_test_rmse                             1.369322\n",
       "split1_test_rmse                             1.369509\n",
       "split2_test_rmse                             1.369781\n",
       "mean_test_rmse                               1.369537\n",
       "std_test_rmse                                0.000188\n",
       "rank_test_rmse                                      1\n",
       "mean_fit_time                               51.999236\n",
       "std_fit_time                                 3.109121\n",
       "mean_test_time                              15.250752\n",
       "std_test_time                                0.516919\n",
       "params              {'n_epochs': 10, 'lr_all': 0.005}\n",
       "param_n_epochs                                     10\n",
       "param_lr_all                                    0.005\n",
       "Name: 0, dtype: object"
      ]
     },
     "execution_count": 32,
     "metadata": {},
     "output_type": "execute_result"
    }
   ],
   "source": [
    "best_res = res_df[res_df['rank_test_rmse'] == 1].iloc[0]\n",
    "best_res"
   ]
  },
  {
   "cell_type": "code",
   "execution_count": 39,
   "id": "005f6820-3c16-4678-a6b6-a1e91ab3b9c3",
   "metadata": {},
   "outputs": [
    {
     "data": {
      "text/plain": [
       "{'n_epochs': 10, 'lr_all': 0.005}"
      ]
     },
     "execution_count": 39,
     "metadata": {},
     "output_type": "execute_result"
    }
   ],
   "source": [
    "best_params = best_res['params']\n",
    "best_params"
   ]
  },
  {
   "cell_type": "code",
   "execution_count": 44,
   "id": "1badca79-4107-4cd3-b5ad-40eae018eb9e",
   "metadata": {},
   "outputs": [
    {
     "data": {
      "text/plain": [
       "<surprise.prediction_algorithms.matrix_factorization.SVD at 0x19943ba60>"
      ]
     },
     "execution_count": 44,
     "metadata": {},
     "output_type": "execute_result"
    }
   ],
   "source": [
    "# retrain on the whole trainval set\n",
    "algo.fit(full_trainset_unfolded_trainval_dataset)"
   ]
  },
  {
   "cell_type": "markdown",
   "id": "67aea91c-ee78-426d-9a46-562059bc1ce4",
   "metadata": {},
   "source": [
    "#### Metrics on train set"
   ]
  },
  {
   "cell_type": "code",
   "execution_count": 58,
   "id": "93523feb-0421-4cba-bafe-6998fe86730a",
   "metadata": {},
   "outputs": [
    {
     "name": "stdout",
     "output_type": "stream",
     "text": [
      "RMSE: 1.0267\n",
      "Train set RMSE: 1.0266569410037207\n",
      "MSE: 1.0540\n",
      "Train set MSE: 1.0540244745111174\n",
      "MAE:  0.7787\n",
      "Train set MAE: 0.7786977912006923\n"
     ]
    }
   ],
   "source": [
    "predictions = algo.test(full_testset_unfolded_trainval_dataset)\n",
    "print(f\"Train set RMSE: {accuracy.rmse(predictions)}\")\n",
    "print(f\"Train set MSE: {accuracy.mse(predictions)}\")\n",
    "print(f\"Train set MAE: {accuracy.mae(predictions)}\")"
   ]
  },
  {
   "cell_type": "markdown",
   "id": "179a98a3-733b-4e7e-a680-48a5434bb4be",
   "metadata": {},
   "source": [
    "#### Metrics on test set"
   ]
  },
  {
   "cell_type": "code",
   "execution_count": 56,
   "id": "b922ff96-fda1-47b3-8c35-a3438abc6d48",
   "metadata": {},
   "outputs": [
    {
     "name": "stdout",
     "output_type": "stream",
     "text": [
      "RMSE: 1.3423\n",
      "Test set RMSE: 1.3422636168111464\n",
      "MSE: 1.8017\n",
      "Test set MSE: 1.80167161701494\n",
      "MAE:  1.0708\n",
      "Test set MAE: 1.0707513252940415\n"
     ]
    }
   ],
   "source": [
    "predictions = algo.test(testset_for_test_dataset)\n",
    "print(f\"Test set RMSE: {accuracy.rmse(predictions)}\")\n",
    "print(f\"Test set MSE: {accuracy.mse(predictions)}\")\n",
    "print(f\"Test set MAE: {accuracy.mae(predictions)}\")"
   ]
  },
  {
   "cell_type": "code",
   "execution_count": 59,
   "id": "feffc45c-b579-40e4-868d-5b85423c8107",
   "metadata": {},
   "outputs": [
    {
     "data": {
      "text/plain": [
       "<surprise.prediction_algorithms.matrix_factorization.SVD at 0x19943ba60>"
      ]
     },
     "execution_count": 59,
     "metadata": {},
     "output_type": "execute_result"
    }
   ],
   "source": [
    "algo"
   ]
  },
  {
   "cell_type": "code",
   "execution_count": 70,
   "id": "91237cbd-d4d2-4e70-b731-78498ada966f",
   "metadata": {},
   "outputs": [
    {
     "data": {
      "text/plain": [
       "surprise.prediction_algorithms.predictions.Prediction"
      ]
     },
     "execution_count": 70,
     "metadata": {},
     "output_type": "execute_result"
    }
   ],
   "source": [
    "type(predictions[0])"
   ]
  },
  {
   "cell_type": "markdown",
   "id": "61046656-750e-4066-8dab-80fb40cac5ae",
   "metadata": {
    "tags": []
   },
   "source": [
    "## CV Code"
   ]
  },
  {
   "cell_type": "code",
   "execution_count": 16,
   "id": "972abd26-0e23-4429-8b4e-43e9b051c7d6",
   "metadata": {},
   "outputs": [],
   "source": [
    "def _time_print(start):\n",
    "    seconds = time() - start\n",
    "    m, s = divmod(seconds, 60)\n",
    "    h, m = divmod(m, 60)\n",
    "    h, m, s = int(h), int(m),int(s)\n",
    "    print(f'Done. Took {h:0>2}:{m:0>2}:{s:0>2} [hour:min:sec]')"
   ]
  },
  {
   "cell_type": "code",
   "execution_count": 17,
   "id": "807e3ce5-c0b2-47a3-9aee-e623507f57af",
   "metadata": {},
   "outputs": [],
   "source": [
    "class Res:\n",
    "    GSCV = 'GridSearchCV'\n",
    "    BEST_MODEL = 'BestModel'\n",
    "    TEST_PRED = 'TestSetPredictions'\n",
    "    TEST_RMSE = 'TestRMSE'\n",
    "    TEST_MAE = 'TestMAE'"
   ]
  },
  {
   "cell_type": "code",
   "execution_count": 27,
   "id": "40b0a730-116d-410a-b68d-bed088489a61",
   "metadata": {},
   "outputs": [],
   "source": [
    "def run_grid_search_cv_for_model_and_save_results(\n",
    "    model_class: surprise.AlgoBase,\n",
    "    param_grid: dict,\n",
    ") -> dict:\n",
    "    \"\"\"Run grid search CV on a given model on parameter grid.\n",
    "    \n",
    "    Parameters\n",
    "    ----------\n",
    "    model_class : object\n",
    "        The class of the model to grid search parameters for.\n",
    "        A subclass of surprise.AlgoBase.\n",
    "    param_grid : dict\n",
    "        A parameter grid, mapping parameter names to list of\n",
    "        possible values.\n",
    "    \n",
    "    Returns\n",
    "    -------\n",
    "    results : dict\n",
    "        Mapping the following result objects:\n",
    "        'GridSearchCV': surprise.model_selection.GridSearchCV\n",
    "            The fitted GridSearchCV objects. See grid_search.cv_results.\n",
    "        'BestModel': surprise.AlgoBase\n",
    "            An instance of the model class initialized with the best\n",
    "            parameters and fitted on the entire train-val set.\n",
    "        'TestSetPredictions': List[surprise.prediction_algorithms.predictions.Prediction]\n",
    "            The predictions of the aforementioned best model on the (holdout)\n",
    "            test set, as a list of surprise.Prediction objects.\n",
    "        'TestRMSE': float\n",
    "            RMSE on the test set.\n",
    "        'TestMAE': float\n",
    "            MAE on the test set.\n",
    "    \"\"\"\n",
    "    \n",
    "    pkf = PredefinedKFold()\n",
    "\n",
    "    print(f\"Starting grid search for model {model_class} and parameter grid:\")\n",
    "    print(param_grid)\n",
    "    # we have 3 folds so multiply by 3\n",
    "    expected_n_jobs = int(3 * np.prod([len(v) for v in param_grid.values()]))\n",
    "    print(f\"\\nExpecting to run {expected_n_jobs:0>0} jobs...\")\n",
    "    \n",
    "    \n",
    "    start = time()\n",
    "    grid_search = GridSearchCV(\n",
    "        algo_class=model_class,\n",
    "        param_grid=param_grid,\n",
    "        measures=['rmse', 'mae'],\n",
    "        cv=pkf,\n",
    "        n_jobs=-1,\n",
    "        # pre_dispatch=4,\n",
    "        joblib_verbose=51,\n",
    "    )\n",
    "    grid_search.fit(folded_trainval_dataset)\n",
    "    _time_print(start)\n",
    "\n",
    "    best_algo = grid_search.best_estimator['rmse']\n",
    "    res_df = pd.DataFrame(grid_search.cv_results)\n",
    "    best_res = res_df[res_df['rank_test_rmse'] == 1].iloc[0]\n",
    "    best_params = best_res['params']\n",
    "    print(\"\\nBest results by RMSE:\")\n",
    "    print(best_res)\n",
    "    print(\"\\nBest params:\")\n",
    "    print(best_params)\n",
    "    \n",
    "    print(\"\\nFitting on the entire train-val set...\")\n",
    "    start = time()\n",
    "    best_algo.fit(full_trainset_unfolded_trainval_dataset)\n",
    "    _time_print(start)\n",
    "    \n",
    "    print(\"\\nPredicting on the train-val set...\")\n",
    "    start = time()\n",
    "    predictions = best_algo.test(full_testset_unfolded_trainval_dataset)\n",
    "    _time_print(start)\n",
    "    print(f\"Train set RMSE: {accuracy.rmse(predictions)}\")\n",
    "    print(f\"Train set MSE: {accuracy.mse(predictions)}\")\n",
    "    print(f\"Train set MAE: {accuracy.mae(predictions)}\")\n",
    "    \n",
    "    print(\"\\nPredicting on the test set...\")\n",
    "    start = time()\n",
    "    predictions = best_algo.test(testset_for_test_dataset)\n",
    "    _time_print(start)\n",
    "    print(f\"Test set RMSE: {accuracy.rmse(predictions)}\")\n",
    "    print(f\"Test set MSE: {accuracy.mse(predictions)}\")\n",
    "    print(f\"Test set MAE: {accuracy.mae(predictions)}\")\n",
    "    \n",
    "    print(\"\\nDONE! Grid search terminating...\")\n",
    "    return {\n",
    "        Res.GSCV: grid_search,\n",
    "        Res.BEST_MODEL: best_algo,\n",
    "        Res.TEST_PRED: predictions,\n",
    "        Res.TEST_RMSE: accuracy.rmse(predictions),\n",
    "        Res.TEST_MAE: accuracy.mae(predictions),\n",
    "    }"
   ]
  },
  {
   "cell_type": "markdown",
   "id": "3ee0bcd2-9d03-49fc-9b10-2f066c333cb4",
   "metadata": {
    "tags": []
   },
   "source": [
    "### Baseline 1 - NormalPredictor"
   ]
  },
  {
   "cell_type": "code",
   "execution_count": 28,
   "id": "932a3c53-b969-44d5-aec1-6d58b55e1785",
   "metadata": {},
   "outputs": [
    {
     "data": {
      "text/plain": [
       "surprise.prediction_algorithms.random_pred.NormalPredictor"
      ]
     },
     "execution_count": 28,
     "metadata": {},
     "output_type": "execute_result"
    }
   ],
   "source": [
    "MODEL_CLASS = NormalPredictor\n",
    "MODEL_CLASS"
   ]
  },
  {
   "cell_type": "code",
   "execution_count": 29,
   "id": "33139ec9-2375-4813-ae1b-863cc4500a16",
   "metadata": {},
   "outputs": [
    {
     "name": "stdout",
     "output_type": "stream",
     "text": [
      "Starting grid search for model <class 'surprise.prediction_algorithms.random_pred.NormalPredictor'> and parameter grid:\n",
      "{}\n",
      "\n",
      "Expecting to run 3 jobs...\n",
      "[Parallel(n_jobs=-1)]: Using backend LokyBackend with 8 concurrent workers.\n",
      "[Parallel(n_jobs=-1)]: Done   1 tasks      | elapsed:    9.8s\n",
      "[Parallel(n_jobs=-1)]: Done   3 out of   3 | elapsed:   10.6s remaining:    0.0s\n",
      "[Parallel(n_jobs=-1)]: Done   3 out of   3 | elapsed:   10.6s finished\n",
      "Done. Took 00:00:23 [hour:min:sec]\n",
      "\n",
      "Best results by RMSE:\n",
      "split0_test_rmse    1.872231\n",
      "split1_test_rmse    1.872019\n",
      "split2_test_rmse    1.877698\n",
      "mean_test_rmse      1.873983\n",
      "std_test_rmse       0.002629\n",
      "rank_test_rmse             1\n",
      "split0_test_mae     1.427481\n",
      "split1_test_mae     1.425985\n",
      "split2_test_mae     1.432183\n",
      "mean_test_mae        1.42855\n",
      "std_test_mae        0.002641\n",
      "rank_test_mae              1\n",
      "mean_fit_time       0.974637\n",
      "std_fit_time        0.185207\n",
      "mean_test_time      3.804179\n",
      "std_test_time       1.490243\n",
      "params                    {}\n",
      "Name: 0, dtype: object\n",
      "\n",
      "Best params:\n",
      "{}\n",
      "\n",
      "Fitting on the entire train-val set...\n",
      "Done. Took 00:00:01 [hour:min:sec]\n",
      "\n",
      "Predicting on the train-val set...\n",
      "Done. Took 00:00:10 [hour:min:sec]\n",
      "RMSE: 1.8695\n",
      "Train set RMSE: 1.8694552431714484\n",
      "MSE: 3.4949\n",
      "Train set MSE: 3.4948629062212193\n",
      "MAE:  1.4251\n",
      "Train set MAE: 1.4250775841461594\n",
      "\n",
      "Predicting on the test set...\n",
      "Done. Took 00:00:03 [hour:min:sec]\n",
      "RMSE: 1.8681\n",
      "Test set RMSE: 1.8680673485985304\n",
      "MSE: 3.4897\n",
      "Test set MSE: 3.4896756188999434\n",
      "MAE:  1.4245\n",
      "Test set MAE: 1.4244510579821523\n",
      "\n",
      "DONE! Grid search terminating...\n",
      "RMSE: 1.8681\n",
      "MAE:  1.4245\n"
     ]
    }
   ],
   "source": [
    "model_res = run_grid_search_cv_for_model_and_save_results(\n",
    "    model_class=MODEL_CLASS,\n",
    "    param_grid={},\n",
    ")"
   ]
  },
  {
   "cell_type": "code",
   "execution_count": 30,
   "id": "2550c13a-735b-4583-8a02-d62208ccad77",
   "metadata": {},
   "outputs": [
    {
     "data": {
      "text/plain": [
       "dict_keys(['GridSearchCV', 'BestModel', 'TestSetPredictions', 'TestRMSE', 'TestMAE'])"
      ]
     },
     "execution_count": 30,
     "metadata": {},
     "output_type": "execute_result"
    }
   ],
   "source": [
    "model_res.keys()"
   ]
  },
  {
   "cell_type": "code",
   "execution_count": 31,
   "id": "472031e2-ad9e-4b97-bf6a-186db7ec5ea8",
   "metadata": {},
   "outputs": [
    {
     "name": "stdout",
     "output_type": "stream",
     "text": [
      "Pickling model results for:\n",
      "NormalPredictor\n"
     ]
    }
   ],
   "source": [
    "strkls = str(MODEL_CLASS)\n",
    "strkls = strkls[strkls.rfind('.')+1:-2]\n",
    "print(\"Pickling model results for:\")\n",
    "print(strkls)\n",
    "\n",
    "with open(f'results/{strkls}_results.pkl', 'wb+') as f:\n",
    "    pickle.dump(model_res, f)"
   ]
  },
  {
   "cell_type": "markdown",
   "id": "bfc4fc69-48d9-4aef-ad44-848fd9e581c5",
   "metadata": {},
   "source": [
    "### Baseline 2 - BaselineOnly"
   ]
  },
  {
   "cell_type": "code",
   "execution_count": 32,
   "id": "735dc93c-2987-4010-b38b-dc37d7ebb8c1",
   "metadata": {},
   "outputs": [],
   "source": [
    "from surprise import BaselineOnly"
   ]
  },
  {
   "cell_type": "code",
   "execution_count": 33,
   "id": "bc018893-8bb4-4f3e-826e-9b32627c0a60",
   "metadata": {},
   "outputs": [
    {
     "data": {
      "text/plain": [
       "surprise.prediction_algorithms.baseline_only.BaselineOnly"
      ]
     },
     "execution_count": 33,
     "metadata": {},
     "output_type": "execute_result"
    }
   ],
   "source": [
    "MODEL_CLASS = BaselineOnly\n",
    "MODEL_CLASS"
   ]
  },
  {
   "cell_type": "code",
   "execution_count": 34,
   "id": "8a3ceb69-11b5-40cc-a0a5-76bc7c428caa",
   "metadata": {},
   "outputs": [
    {
     "name": "stdout",
     "output_type": "stream",
     "text": [
      "Starting grid search for model <class 'surprise.prediction_algorithms.baseline_only.BaselineOnly'> and parameter grid:\n",
      "{'verbose': [True, False]}\n",
      "\n",
      "Expecting to run 6 jobs...\n",
      "[Parallel(n_jobs=-1)]: Using backend LokyBackend with 8 concurrent workers.\n",
      "[Parallel(n_jobs=-1)]: Done   1 tasks      | elapsed:   10.4s\n",
      "[Parallel(n_jobs=-1)]: Done   2 out of   6 | elapsed:   10.4s remaining:   20.8s\n",
      "[Parallel(n_jobs=-1)]: Done   3 out of   6 | elapsed:   10.4s remaining:   10.4s\n",
      "[Parallel(n_jobs=-1)]: Done   4 out of   6 | elapsed:   14.6s remaining:    7.3s\n",
      "[Parallel(n_jobs=-1)]: Done   6 out of   6 | elapsed:   15.3s remaining:    0.0s\n",
      "[Parallel(n_jobs=-1)]: Done   6 out of   6 | elapsed:   15.6s finished\n",
      "Done. Took 00:00:26 [hour:min:sec]\n",
      "\n",
      "Best results by RMSE:\n",
      "split0_test_rmse              1.37417\n",
      "split1_test_rmse             1.366091\n",
      "split2_test_rmse             1.363647\n",
      "mean_test_rmse               1.367969\n",
      "std_test_rmse                0.004496\n",
      "rank_test_rmse                      1\n",
      "split0_test_mae              1.123152\n",
      "split1_test_mae              1.104738\n",
      "split2_test_mae              1.095854\n",
      "mean_test_mae                1.107915\n",
      "std_test_mae                 0.011369\n",
      "rank_test_mae                       1\n",
      "mean_fit_time                1.036959\n",
      "std_fit_time                 0.189268\n",
      "mean_test_time               3.561254\n",
      "std_test_time                1.134548\n",
      "params              {'verbose': True}\n",
      "param_verbose                    True\n",
      "Name: 0, dtype: object\n",
      "\n",
      "Best params:\n",
      "{'verbose': True}\n",
      "\n",
      "Fitting on the entire train-val set...\n",
      "Estimating biases using als...\n",
      "Done. Took 00:00:02 [hour:min:sec]\n",
      "\n",
      "Predicting on the train-val set...\n",
      "Done. Took 00:00:06 [hour:min:sec]\n",
      "RMSE: 1.2642\n",
      "Train set RMSE: 1.2642043144328647\n",
      "MSE: 1.5982\n",
      "Train set MSE: 1.5982125486306693\n",
      "MAE:  0.9887\n",
      "Train set MAE: 0.9887266331902647\n",
      "\n",
      "Predicting on the test set...\n",
      "Done. Took 00:00:02 [hour:min:sec]\n",
      "RMSE: 1.3666\n",
      "Test set RMSE: 1.366630659081203\n",
      "MSE: 1.8677\n",
      "Test set MSE: 1.8676793583407232\n",
      "MAE:  1.1036\n",
      "Test set MAE: 1.1035538006541588\n",
      "\n",
      "DONE! Grid search terminating...\n",
      "RMSE: 1.3666\n",
      "MAE:  1.1036\n"
     ]
    }
   ],
   "source": [
    "baseline_res = run_grid_search_cv_for_model_and_save_results(\n",
    "    model_class=MODEL_CLASS,\n",
    "    param_grid={'verbose': [True, False]},\n",
    ")"
   ]
  },
  {
   "cell_type": "code",
   "execution_count": 35,
   "id": "ecec6b70-5e36-4b2b-aa3e-cbb70deabe6e",
   "metadata": {},
   "outputs": [
    {
     "data": {
      "text/plain": [
       "dict_keys(['GridSearchCV', 'BestModel', 'TestSetPredictions', 'TestRMSE', 'TestMAE'])"
      ]
     },
     "execution_count": 35,
     "metadata": {},
     "output_type": "execute_result"
    }
   ],
   "source": [
    "baseline_res.keys()"
   ]
  },
  {
   "cell_type": "code",
   "execution_count": 36,
   "id": "1829e23f-4765-4de7-8d14-c24fabcda106",
   "metadata": {},
   "outputs": [
    {
     "name": "stdout",
     "output_type": "stream",
     "text": [
      "Pickling model results for:\n",
      "BaselineOnly\n"
     ]
    }
   ],
   "source": [
    "strkls = str(MODEL_CLASS)\n",
    "strkls = strkls[strkls.rfind('.')+1:-2]\n",
    "print(\"Pickling model results for:\")\n",
    "print(strkls)\n",
    "\n",
    "with open(f'results/{strkls}_results.pkl', 'wb+') as f:\n",
    "    pickle.dump(baseline_res, f)"
   ]
  },
  {
   "cell_type": "markdown",
   "id": "78881eba-f445-402d-b9c3-2f9c6779a394",
   "metadata": {
    "tags": []
   },
   "source": [
    "### SVD"
   ]
  },
  {
   "cell_type": "code",
   "execution_count": 38,
   "id": "8bcd2d4b-6aa8-41b7-a9ef-af3afc89a6b9",
   "metadata": {},
   "outputs": [
    {
     "data": {
      "text/plain": [
       "surprise.prediction_algorithms.matrix_factorization.SVD"
      ]
     },
     "execution_count": 38,
     "metadata": {},
     "output_type": "execute_result"
    }
   ],
   "source": [
    "MODEL_CLASS = SVD\n",
    "MODEL_CLASS"
   ]
  },
  {
   "cell_type": "code",
   "execution_count": 39,
   "id": "a512bf07-e99e-4732-b13d-ae972021af60",
   "metadata": {
    "tags": []
   },
   "outputs": [
    {
     "name": "stdout",
     "output_type": "stream",
     "text": [
      "Starting grid search for model <class 'surprise.prediction_algorithms.matrix_factorization.SVD'> and parameter grid:\n",
      "{'n_factors': [10, 50, 100], 'n_epochs': [5, 10, 20], 'lr_all': [0.02, 0.005, 0.01], 'reg_all': [0.05]}\n",
      "\n",
      "Expecting to run 81 jobs...\n",
      "[Parallel(n_jobs=-1)]: Using backend LokyBackend with 8 concurrent workers.\n",
      "[Parallel(n_jobs=-1)]: Done   1 tasks      | elapsed:   17.8s\n",
      "[Parallel(n_jobs=-1)]: Done   2 tasks      | elapsed:   21.2s\n",
      "[Parallel(n_jobs=-1)]: Done   3 tasks      | elapsed:   25.5s\n",
      "[Parallel(n_jobs=-1)]: Done   4 tasks      | elapsed:   36.4s\n",
      "[Parallel(n_jobs=-1)]: Done   5 tasks      | elapsed:   40.0s\n",
      "[Parallel(n_jobs=-1)]: Done   6 tasks      | elapsed:   43.0s\n",
      "[Parallel(n_jobs=-1)]: Done   7 tasks      | elapsed:   47.3s\n",
      "[Parallel(n_jobs=-1)]: Done   8 tasks      | elapsed:   50.7s\n",
      "[Parallel(n_jobs=-1)]: Done   9 tasks      | elapsed:   50.7s\n",
      "[Parallel(n_jobs=-1)]: Done  10 tasks      | elapsed:  1.2min\n",
      "[Parallel(n_jobs=-1)]: Done  11 tasks      | elapsed:  1.3min\n",
      "[Parallel(n_jobs=-1)]: Done  12 tasks      | elapsed:  1.4min\n",
      "[Parallel(n_jobs=-1)]: Done  13 tasks      | elapsed:  1.5min\n",
      "[Parallel(n_jobs=-1)]: Done  14 tasks      | elapsed:  1.5min\n",
      "[Parallel(n_jobs=-1)]: Done  15 tasks      | elapsed:  1.6min\n",
      "[Parallel(n_jobs=-1)]: Done  16 tasks      | elapsed:  1.7min\n",
      "[Parallel(n_jobs=-1)]: Done  17 tasks      | elapsed:  1.7min\n",
      "[Parallel(n_jobs=-1)]: Done  18 tasks      | elapsed:  2.0min\n",
      "[Parallel(n_jobs=-1)]: Done  19 tasks      | elapsed:  2.8min\n",
      "[Parallel(n_jobs=-1)]: Done  20 tasks      | elapsed:  3.1min\n",
      "[Parallel(n_jobs=-1)]: Done  21 tasks      | elapsed:  3.2min\n",
      "[Parallel(n_jobs=-1)]: Done  22 tasks      | elapsed:  3.3min\n",
      "[Parallel(n_jobs=-1)]: Done  23 tasks      | elapsed:  3.3min\n",
      "[Parallel(n_jobs=-1)]: Done  24 tasks      | elapsed:  3.4min\n",
      "[Parallel(n_jobs=-1)]: Done  25 tasks      | elapsed:  3.5min\n",
      "[Parallel(n_jobs=-1)]: Done  26 tasks      | elapsed:  3.8min\n",
      "[Parallel(n_jobs=-1)]: Done  27 tasks      | elapsed:  4.1min\n",
      "[Parallel(n_jobs=-1)]: Done  28 tasks      | elapsed:  4.2min\n",
      "[Parallel(n_jobs=-1)]: Done  29 tasks      | elapsed:  4.3min\n",
      "[Parallel(n_jobs=-1)]: Done  30 tasks      | elapsed:  4.3min\n",
      "[Parallel(n_jobs=-1)]: Done  31 tasks      | elapsed:  4.4min\n",
      "[Parallel(n_jobs=-1)]: Done  32 tasks      | elapsed:  4.5min\n",
      "[Parallel(n_jobs=-1)]: Done  33 tasks      | elapsed:  4.7min\n",
      "[Parallel(n_jobs=-1)]: Done  34 tasks      | elapsed:  4.9min\n",
      "[Parallel(n_jobs=-1)]: Done  35 tasks      | elapsed:  5.2min\n",
      "[Parallel(n_jobs=-1)]: Done  36 tasks      | elapsed:  5.3min\n",
      "[Parallel(n_jobs=-1)]: Done  37 tasks      | elapsed:  6.1min\n",
      "[Parallel(n_jobs=-1)]: Done  38 tasks      | elapsed:  6.1min\n",
      "[Parallel(n_jobs=-1)]: Done  39 tasks      | elapsed:  6.2min\n",
      "[Parallel(n_jobs=-1)]: Done  40 tasks      | elapsed:  6.4min\n",
      "[Parallel(n_jobs=-1)]: Done  41 tasks      | elapsed:  6.5min\n",
      "[Parallel(n_jobs=-1)]: Done  42 tasks      | elapsed:  6.6min\n",
      "[Parallel(n_jobs=-1)]: Done  43 tasks      | elapsed:  6.8min\n",
      "[Parallel(n_jobs=-1)]: Done  44 tasks      | elapsed:  7.0min\n",
      "[Parallel(n_jobs=-1)]: Done  45 tasks      | elapsed:  8.0min\n",
      "[Parallel(n_jobs=-1)]: Done  46 tasks      | elapsed:  8.7min\n",
      "[Parallel(n_jobs=-1)]: Done  47 tasks      | elapsed:  9.1min\n",
      "[Parallel(n_jobs=-1)]: Done  48 tasks      | elapsed:  9.2min\n",
      "[Parallel(n_jobs=-1)]: Done  49 tasks      | elapsed:  9.4min\n",
      "[Parallel(n_jobs=-1)]: Done  50 tasks      | elapsed:  9.4min\n",
      "[Parallel(n_jobs=-1)]: Done  51 tasks      | elapsed:  9.5min\n",
      "[Parallel(n_jobs=-1)]: Done  52 tasks      | elapsed:  9.8min\n",
      "[Parallel(n_jobs=-1)]: Done  53 tasks      | elapsed: 10.3min\n",
      "[Parallel(n_jobs=-1)]: Done  54 tasks      | elapsed: 10.5min\n",
      "[Parallel(n_jobs=-1)]: Done  55 tasks      | elapsed: 10.7min\n",
      "[Parallel(n_jobs=-1)]: Done  56 tasks      | elapsed: 10.8min\n",
      "Estimating biases using als...\n"
     ]
    },
    {
     "name": "stderr",
     "output_type": "stream",
     "text": [
      "/Users/shaypalachy/.pyenv/versions/3.10.2/envs/py3/lib/python3.10/site-packages/joblib/externals/loky/process_executor.py:702: UserWarning: A worker stopped while some jobs were given to the executor. This can be caused by a too short worker timeout or by a memory leak.\n",
      "  warnings.warn(\n"
     ]
    },
    {
     "name": "stdout",
     "output_type": "stream",
     "text": [
      "[Parallel(n_jobs=-1)]: Done  57 tasks      | elapsed: 10.9min\n",
      "[Parallel(n_jobs=-1)]: Done  58 tasks      | elapsed: 11.1min\n",
      "[Parallel(n_jobs=-1)]: Done  59 tasks      | elapsed: 11.2min\n",
      "[Parallel(n_jobs=-1)]: Done  60 tasks      | elapsed: 11.6min\n",
      "[Parallel(n_jobs=-1)]: Done  61 tasks      | elapsed: 11.7min\n",
      "[Parallel(n_jobs=-1)]: Done  62 tasks      | elapsed: 11.9min\n",
      "[Parallel(n_jobs=-1)]: Done  63 tasks      | elapsed: 12.0min\n",
      "[Parallel(n_jobs=-1)]: Done  64 tasks      | elapsed: 12.8min\n",
      "[Parallel(n_jobs=-1)]: Done  65 tasks      | elapsed: 13.1min\n",
      "[Parallel(n_jobs=-1)]: Done  66 tasks      | elapsed: 13.2min\n",
      "[Parallel(n_jobs=-1)]: Done  68 out of  81 | elapsed: 13.9min remaining:  2.7min\n",
      "[Parallel(n_jobs=-1)]: Done  70 out of  81 | elapsed: 14.4min remaining:  2.3min\n",
      "[Parallel(n_jobs=-1)]: Done  72 out of  81 | elapsed: 15.5min remaining:  1.9min\n",
      "[Parallel(n_jobs=-1)]: Done  74 out of  81 | elapsed: 17.6min remaining:  1.7min\n",
      "[Parallel(n_jobs=-1)]: Done  76 out of  81 | elapsed: 18.0min remaining:  1.2min\n",
      "[Parallel(n_jobs=-1)]: Done  78 out of  81 | elapsed: 18.4min remaining:   42.4s\n",
      "[Parallel(n_jobs=-1)]: Done  81 out of  81 | elapsed: 19.2min finished\n",
      "Done. Took 00:19:21 [hour:min:sec]Estimating biases using als...\n",
      "\n",
      "\n",
      "Best results by RMSE:\n",
      "split0_test_rmse                                             1.349767\n",
      "split1_test_rmse                                             1.333504\n",
      "split2_test_rmse                                             1.319134\n",
      "mean_test_rmse                                               1.334135\n",
      "std_test_rmse                                                0.012514\n",
      "rank_test_rmse                                                      1\n",
      "split0_test_mae                                              1.090329\n",
      "split1_test_mae                                              1.064998\n",
      "split2_test_mae                                              1.044695\n",
      "mean_test_mae                                                1.066674\n",
      "std_test_mae                                                 0.018668\n",
      "rank_test_mae                                                       8\n",
      "mean_fit_time                                              232.894741\n",
      "std_fit_time                                                  7.28999\n",
      "mean_test_time                                               8.155271\n",
      "std_test_time                                                5.085777\n",
      "params              {'n_factors': 100, 'n_epochs': 20, 'lr_all': 0...\n",
      "param_n_factors                                                   100\n",
      "param_n_epochs                                                     20\n",
      "param_lr_all                                                    0.005\n",
      "param_reg_all                                                    0.05\n",
      "Name: 25, dtype: object\n",
      "\n",
      "Best params:\n",
      "{'n_factors': 100, 'n_epochs': 20, 'lr_all': 0.005, 'reg_all': 0.05}\n",
      "\n",
      "Fitting on the entire train-val set...\n",
      "Done. Took 00:01:21 [hour:min:sec]\n",
      "\n",
      "Predicting on the train-val set...\n",
      "Done. Took 00:00:11 [hour:min:sec]\n",
      "RMSE: 0.9747\n",
      "Train set RMSE: 0.9746643640929862\n",
      "MSE: 0.9500\n",
      "Train set MSE: 0.9499706226327851\n",
      "MAE:  0.7345\n",
      "Train set MAE: 0.7345440622621994\n",
      "\n",
      "Predicting on the test set...\n",
      "Done. Took 00:00:02 [hour:min:sec]\n",
      "RMSE: 1.3321\n",
      "Test set RMSE: 1.3321166810777192\n",
      "MSE: 1.7745\n",
      "Test set MSE: 1.7745348520055177\n",
      "MAE:  1.0596\n",
      "Test set MAE: 1.0595812063779455\n",
      "\n",
      "DONE! Grid search terminating...\n",
      "RMSE: 1.3321\n",
      "MAE:  1.0596\n"
     ]
    }
   ],
   "source": [
    "svd_res = run_grid_search_cv_for_model_and_save_results(\n",
    "    model_class=MODEL_CLASS,\n",
    "    # param_grid={\n",
    "    #     'n_factors': [10],\n",
    "    #     'n_epochs': [5], \n",
    "    #     'lr_all': [0.02],\n",
    "    #     'reg_all': [0.01, 0.02],\n",
    "    # },\n",
    "    param_grid={\n",
    "        'n_factors': [10, 50, 100],\n",
    "        'n_epochs': [5, 10, 20], \n",
    "        'lr_all': [0.02, 0.005, 0.01],\n",
    "        'reg_all': [0.05],\n",
    "    },\n",
    ")"
   ]
  },
  {
   "cell_type": "code",
   "execution_count": 40,
   "id": "ab418d9b-0e3d-437a-9aa8-e7ca60c4396c",
   "metadata": {},
   "outputs": [
    {
     "data": {
      "text/plain": [
       "dict_keys(['GridSearchCV', 'BestModel', 'TestSetPredictions', 'TestRMSE', 'TestMAE'])"
      ]
     },
     "execution_count": 40,
     "metadata": {},
     "output_type": "execute_result"
    }
   ],
   "source": [
    "svd_res.keys()"
   ]
  },
  {
   "cell_type": "code",
   "execution_count": 41,
   "id": "48b984ef-bfaa-4271-bbfb-d5f16f867c81",
   "metadata": {},
   "outputs": [
    {
     "name": "stdout",
     "output_type": "stream",
     "text": [
      "Pickling model results for:\n",
      "SVD\n",
      "Estimating biases using als...\n"
     ]
    }
   ],
   "source": [
    "strkls = str(MODEL_CLASS)\n",
    "strkls = strkls[strkls.rfind('.')+1:-2]\n",
    "print(\"Pickling model results for:\")\n",
    "print(strkls)\n",
    "\n",
    "with open(f'results/{strkls}_results.pkl', 'wb+') as f:\n",
    "    pickle.dump(svd_res, f)"
   ]
  },
  {
   "cell_type": "markdown",
   "id": "b4d38c86-9660-40c0-87a5-e5d42a086d50",
   "metadata": {},
   "source": [
    "### SVD++"
   ]
  },
  {
   "cell_type": "code",
   "execution_count": 42,
   "id": "2590fc50-40da-424e-8a33-803e14b79f44",
   "metadata": {},
   "outputs": [],
   "source": [
    "from surprise import SVDpp"
   ]
  },
  {
   "cell_type": "code",
   "execution_count": 43,
   "id": "2b74d340-64b0-4765-9280-e1dd1ee71da8",
   "metadata": {},
   "outputs": [
    {
     "data": {
      "text/plain": [
       "surprise.prediction_algorithms.matrix_factorization.SVDpp"
      ]
     },
     "execution_count": 43,
     "metadata": {},
     "output_type": "execute_result"
    }
   ],
   "source": [
    "MODEL_CLASS = SVDpp\n",
    "MODEL_CLASS"
   ]
  },
  {
   "cell_type": "code",
   "execution_count": null,
   "id": "4c537181-a489-44ae-8f28-18c898f8a7c8",
   "metadata": {
    "tags": []
   },
   "outputs": [
    {
     "name": "stdout",
     "output_type": "stream",
     "text": [
      "Starting grid search for model <class 'surprise.prediction_algorithms.matrix_factorization.SVDpp'> and parameter grid:\n",
      "{'n_factors': [10, 75, 150], 'n_epochs': [5, 20, 40], 'lr_all': [0.02, 0.005, 0.01], 'reg_all': [0.05]}\n",
      "\n",
      "Expecting to run 81 jobs...\n",
      "[Parallel(n_jobs=-1)]: Using backend LokyBackend with 8 concurrent workers.\n",
      "[Parallel(n_jobs=-1)]: Done   1 tasks      | elapsed:  6.5min\n",
      "[Parallel(n_jobs=-1)]: Done   2 tasks      | elapsed:  6.8min\n",
      "[Parallel(n_jobs=-1)]: Done   3 tasks      | elapsed:  7.0min\n",
      "[Parallel(n_jobs=-1)]: Done   4 tasks      | elapsed:  8.6min\n",
      "[Parallel(n_jobs=-1)]: Done   5 tasks      | elapsed:  8.8min\n",
      "[Parallel(n_jobs=-1)]: Done   6 tasks      | elapsed:  9.1min\n",
      "[Parallel(n_jobs=-1)]: Done   7 tasks      | elapsed: 10.4min\n",
      "[Parallel(n_jobs=-1)]: Done   8 tasks      | elapsed: 10.9min\n",
      "[Parallel(n_jobs=-1)]: Done   9 tasks      | elapsed: 18.7min\n",
      "[Parallel(n_jobs=-1)]: Done  10 tasks      | elapsed: 35.3min\n",
      "[Parallel(n_jobs=-1)]: Done  11 tasks      | elapsed: 37.7min\n",
      "[Parallel(n_jobs=-1)]: Done  12 tasks      | elapsed: 40.0min\n",
      "[Parallel(n_jobs=-1)]: Done  13 tasks      | elapsed: 44.5min\n",
      "[Parallel(n_jobs=-1)]: Done  14 tasks      | elapsed: 46.8min\n",
      "[Parallel(n_jobs=-1)]: Done  15 tasks      | elapsed: 56.0min\n",
      "[Parallel(n_jobs=-1)]: Done  16 tasks      | elapsed: 57.6min\n",
      "[Parallel(n_jobs=-1)]: Done  17 tasks      | elapsed: 58.5min\n",
      "[Parallel(n_jobs=-1)]: Done  18 tasks      | elapsed: 81.4min\n",
      "[Parallel(n_jobs=-1)]: Done  19 tasks      | elapsed: 90.7min\n",
      "[Parallel(n_jobs=-1)]: Done  20 tasks      | elapsed: 97.0min\n",
      "[Parallel(n_jobs=-1)]: Done  21 tasks      | elapsed: 104.3min\n",
      "[Parallel(n_jobs=-1)]: Done  22 tasks      | elapsed: 105.4min\n",
      "[Parallel(n_jobs=-1)]: Done  23 tasks      | elapsed: 112.8min\n",
      "[Parallel(n_jobs=-1)]: Done  24 tasks      | elapsed: 115.5min\n",
      "[Parallel(n_jobs=-1)]: Done  25 tasks      | elapsed: 120.4min\n",
      "[Parallel(n_jobs=-1)]: Done  26 tasks      | elapsed: 124.4min\n",
      "[Parallel(n_jobs=-1)]: Done  27 tasks      | elapsed: 128.6min\n",
      "[Parallel(n_jobs=-1)]: Done  28 tasks      | elapsed: 129.3min\n",
      "[Parallel(n_jobs=-1)]: Done  29 tasks      | elapsed: 132.1min\n",
      "[Parallel(n_jobs=-1)]: Done  30 tasks      | elapsed: 134.5min\n",
      "[Parallel(n_jobs=-1)]: Done  31 tasks      | elapsed: 136.3min\n",
      "[Parallel(n_jobs=-1)]: Done  32 tasks      | elapsed: 140.4min\n",
      "[Parallel(n_jobs=-1)]: Done  33 tasks      | elapsed: 145.7min\n",
      "[Parallel(n_jobs=-1)]: Done  34 tasks      | elapsed: 149.5min\n",
      "[Parallel(n_jobs=-1)]: Done  35 tasks      | elapsed: 154.7min\n",
      "[Parallel(n_jobs=-1)]: Done  36 tasks      | elapsed: 156.2min\n",
      "[Parallel(n_jobs=-1)]: Done  37 tasks      | elapsed: 193.0min\n",
      "[Parallel(n_jobs=-1)]: Done  38 tasks      | elapsed: 198.0min\n",
      "[Parallel(n_jobs=-1)]: Done  39 tasks      | elapsed: 211.9min\n",
      "[Parallel(n_jobs=-1)]: Done  40 tasks      | elapsed: 212.3min\n",
      "[Parallel(n_jobs=-1)]: Done  41 tasks      | elapsed: 221.9min\n",
      "[Parallel(n_jobs=-1)]: Done  42 tasks      | elapsed: 232.8min\n",
      "[Parallel(n_jobs=-1)]: Done  43 tasks      | elapsed: 233.1min\n",
      "[Parallel(n_jobs=-1)]: Done  44 tasks      | elapsed: 247.5min\n",
      "[Parallel(n_jobs=-1)]: Done  45 tasks      | elapsed: 291.7min\n",
      "[Parallel(n_jobs=-1)]: Done  46 tasks      | elapsed: 308.2min\n",
      "[Parallel(n_jobs=-1)]: Done  47 tasks      | elapsed: 330.2min\n",
      "[Parallel(n_jobs=-1)]: Done  48 tasks      | elapsed: 354.8min\n",
      "[Parallel(n_jobs=-1)]: Done  49 tasks      | elapsed: 357.9min\n",
      "[Parallel(n_jobs=-1)]: Done  50 tasks      | elapsed: 358.8min\n",
      "[Parallel(n_jobs=-1)]: Done  51 tasks      | elapsed: 378.3min\n",
      "[Parallel(n_jobs=-1)]: Done  52 tasks      | elapsed: 383.6min\n",
      "[Parallel(n_jobs=-1)]: Done  53 tasks      | elapsed: 387.3min\n",
      "[Parallel(n_jobs=-1)]: Done  54 tasks      | elapsed: 395.4min\n",
      "[Parallel(n_jobs=-1)]: Done  55 tasks      | elapsed: 399.4min\n",
      "[Parallel(n_jobs=-1)]: Done  56 tasks      | elapsed: 410.9min\n",
      "[Parallel(n_jobs=-1)]: Done  57 tasks      | elapsed: 412.3min\n",
      "[Parallel(n_jobs=-1)]: Done  58 tasks      | elapsed: 416.5min\n",
      "[Parallel(n_jobs=-1)]: Done  59 tasks      | elapsed: 424.8min\n",
      "[Parallel(n_jobs=-1)]: Done  60 tasks      | elapsed: 428.1min\n",
      "[Parallel(n_jobs=-1)]: Done  61 tasks      | elapsed: 440.1min\n",
      "[Parallel(n_jobs=-1)]: Done  62 tasks      | elapsed: 441.9min\n",
      "[Parallel(n_jobs=-1)]: Done  63 tasks      | elapsed: 488.2min\n",
      "[Parallel(n_jobs=-1)]: Done  64 tasks      | elapsed: 506.2min\n",
      "[Parallel(n_jobs=-1)]: Done  65 tasks      | elapsed: 523.2min\n",
      "[Parallel(n_jobs=-1)]: Done  66 tasks      | elapsed: 539.8min\n",
      "[Parallel(n_jobs=-1)]: Done  68 out of  81 | elapsed: 555.2min remaining: 106.1min\n",
      "[Parallel(n_jobs=-1)]: Done  70 out of  81 | elapsed: 600.3min remaining: 94.3min\n",
      "[Parallel(n_jobs=-1)]: Done  72 out of  81 | elapsed: 667.0min remaining: 83.4min\n",
      "[Parallel(n_jobs=-1)]: Done  74 out of  81 | elapsed: 746.3min remaining: 70.6min\n"
     ]
    }
   ],
   "source": [
    "svdpp_res = run_grid_search_cv_for_model_and_save_results(\n",
    "    model_class=MODEL_CLASS,\n",
    "    param_grid={\n",
    "        'n_factors': [10, 75, 150],\n",
    "        'n_epochs': [5, 20, 40], \n",
    "        'lr_all': [0.02, 0.005, 0.01],\n",
    "        'reg_all': [0.05],\n",
    "    },\n",
    ")"
   ]
  },
  {
   "cell_type": "code",
   "execution_count": null,
   "id": "c90edc50-4290-4214-b6a4-1b3b8b73bcdf",
   "metadata": {},
   "outputs": [],
   "source": [
    "svdpp_res.keys()"
   ]
  },
  {
   "cell_type": "code",
   "execution_count": null,
   "id": "9b18eaab-6b96-491a-af80-33f2c2205203",
   "metadata": {},
   "outputs": [],
   "source": [
    "strkls = str(MODEL_CLASS)\n",
    "strkls = strkls[strkls.rfind('.')+1:-2]\n",
    "print(\"Pickling model results for:\")\n",
    "print(strkls)\n",
    "\n",
    "with open(f'results/{strkls}_results.pkl', 'wb+') as f:\n",
    "    pickle.dump(svdpp_res, f)"
   ]
  },
  {
   "cell_type": "code",
   "execution_count": null,
   "id": "1ade752d-c0e5-46e8-97c5-2c84e94c84bc",
   "metadata": {},
   "outputs": [],
   "source": []
  }
 ],
 "metadata": {
  "kernelspec": {
   "display_name": "py3",
   "language": "python",
   "name": "py3"
  },
  "language_info": {
   "codemirror_mode": {
    "name": "ipython",
    "version": 3
   },
   "file_extension": ".py",
   "mimetype": "text/x-python",
   "name": "python",
   "nbconvert_exporter": "python",
   "pygments_lexer": "ipython3",
   "version": "3.10.2"
  }
 },
 "nbformat": 4,
 "nbformat_minor": 5
}
