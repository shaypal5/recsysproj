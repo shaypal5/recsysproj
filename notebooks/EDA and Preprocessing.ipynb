{
 "cells": [
  {
   "cell_type": "markdown",
   "id": "8a6deaf9-1d5f-4eb9-bd3a-1322acc92eb3",
   "metadata": {},
   "source": [
    "# RecSys Project - Casino Recommendations - EDA"
   ]
  },
  {
   "cell_type": "markdown",
   "id": "1f32f185-8c89-45f6-9390-bf62d23e4dce",
   "metadata": {},
   "source": [
    "## Imports"
   ]
  },
  {
   "cell_type": "code",
   "execution_count": 144,
   "id": "4a4dba92-4492-418e-b1c2-789322266112",
   "metadata": {},
   "outputs": [],
   "source": [
    "import pickle\n",
    "from typing import Set, List, Optional\n",
    "\n",
    "import numpy as np\n",
    "import pandas as pd\n",
    "import pdpipe as pdp\n",
    "import seaborn as sns\n",
    "import matplotlib.pyplot as plt\n",
    "from tqdm.notebook import trange, tqdm"
   ]
  },
  {
   "cell_type": "code",
   "execution_count": 2,
   "id": "8cd31a85-2b47-4c7e-8ae0-34d3307ed22b",
   "metadata": {},
   "outputs": [],
   "source": [
    "pd.options.display.float_format = '${:,.2f}'.format"
   ]
  },
  {
   "cell_type": "markdown",
   "id": "6072062a-71a0-4070-a857-753b2e3007a4",
   "metadata": {},
   "source": [
    "## Data Loading"
   ]
  },
  {
   "cell_type": "code",
   "execution_count": 3,
   "id": "050cfffc-1c5b-45b0-a2bd-defb743bb50d",
   "metadata": {},
   "outputs": [],
   "source": [
    "from recasino.data import (\n",
    "    Col,\n",
    "    set_data_dpath,\n",
    "    get_raw_dataframe,\n",
    ")"
   ]
  },
  {
   "cell_type": "code",
   "execution_count": 141,
   "id": "78ef99a4-8d07-4bac-a808-fd3cef330043",
   "metadata": {},
   "outputs": [],
   "source": [
    "class Col:\n",
    "    DATE = 'dt_date_ID'\n",
    "    USER = 'CID'\n",
    "    COUNTRY = 'Country_ID'\n",
    "    GAME = 'GameType_ID'\n",
    "    VENDOR = 'VendorID'\n",
    "    BETS = 'Bets'\n",
    "    WEEK = 'week'\n",
    "    RATING = 'rating'"
   ]
  },
  {
   "cell_type": "code",
   "execution_count": 4,
   "id": "10db4cfd-a2e8-42ac-a741-a3cc648d4efb",
   "metadata": {},
   "outputs": [],
   "source": [
    "data_dpath = '/Users/shaypalachy/data/mba/recsys/project/'"
   ]
  },
  {
   "cell_type": "code",
   "execution_count": 5,
   "id": "3be148df-1764-4dc9-b650-ab31bb6714f0",
   "metadata": {},
   "outputs": [],
   "source": [
    "set_data_dpath(data_dpath)"
   ]
  },
  {
   "cell_type": "code",
   "execution_count": 164,
   "id": "ba1a2566-0470-4aa9-b337-f562d19e5101",
   "metadata": {},
   "outputs": [],
   "source": [
    "rdf = get_raw_dataframe()"
   ]
  },
  {
   "cell_type": "code",
   "execution_count": 165,
   "id": "6a137e0e-006f-4ebb-a450-7480dffa2e8a",
   "metadata": {},
   "outputs": [
    {
     "data": {
      "text/html": [
       "<div>\n",
       "<style scoped>\n",
       "    .dataframe tbody tr th:only-of-type {\n",
       "        vertical-align: middle;\n",
       "    }\n",
       "\n",
       "    .dataframe tbody tr th {\n",
       "        vertical-align: top;\n",
       "    }\n",
       "\n",
       "    .dataframe thead th {\n",
       "        text-align: right;\n",
       "    }\n",
       "</style>\n",
       "<table border=\"1\" class=\"dataframe\">\n",
       "  <thead>\n",
       "    <tr style=\"text-align: right;\">\n",
       "      <th></th>\n",
       "      <th>dt_date_ID</th>\n",
       "      <th>CID</th>\n",
       "      <th>Country_ID</th>\n",
       "      <th>GameType_ID</th>\n",
       "      <th>VendorID</th>\n",
       "      <th>Bets</th>\n",
       "    </tr>\n",
       "  </thead>\n",
       "  <tbody>\n",
       "    <tr>\n",
       "      <th>0</th>\n",
       "      <td>2020-05-01</td>\n",
       "      <td>798441298</td>\n",
       "      <td>84</td>\n",
       "      <td>504</td>\n",
       "      <td>27</td>\n",
       "      <td>$0.89</td>\n",
       "    </tr>\n",
       "    <tr>\n",
       "      <th>1</th>\n",
       "      <td>2020-05-01</td>\n",
       "      <td>799100355</td>\n",
       "      <td>37</td>\n",
       "      <td>2138</td>\n",
       "      <td>54</td>\n",
       "      <td>$0.66</td>\n",
       "    </tr>\n",
       "    <tr>\n",
       "      <th>2</th>\n",
       "      <td>2020-05-01</td>\n",
       "      <td>834556973</td>\n",
       "      <td>234</td>\n",
       "      <td>2244</td>\n",
       "      <td>71</td>\n",
       "      <td>$2.12</td>\n",
       "    </tr>\n",
       "  </tbody>\n",
       "</table>\n",
       "</div>"
      ],
      "text/plain": [
       "  dt_date_ID        CID  Country_ID  GameType_ID  VendorID  Bets\n",
       "0 2020-05-01  798441298          84          504        27 $0.89\n",
       "1 2020-05-01  799100355          37         2138        54 $0.66\n",
       "2 2020-05-01  834556973         234         2244        71 $2.12"
      ]
     },
     "execution_count": 165,
     "metadata": {},
     "output_type": "execute_result"
    }
   ],
   "source": [
    "rdf.head(3)"
   ]
  },
  {
   "cell_type": "code",
   "execution_count": 166,
   "id": "96f95194-ea01-4529-b2d5-a62cd6e003e0",
   "metadata": {},
   "outputs": [
    {
     "data": {
      "text/plain": [
       "(3401368, 6)"
      ]
     },
     "execution_count": 166,
     "metadata": {},
     "output_type": "execute_result"
    }
   ],
   "source": [
    "rdf.shape"
   ]
  },
  {
   "cell_type": "code",
   "execution_count": 167,
   "id": "88fd3774-9919-4bbe-9eef-111b8ae144d9",
   "metadata": {},
   "outputs": [
    {
     "data": {
      "text/plain": [
       "numpy.datetime64('2020-05-01T00:00:00.000000000')"
      ]
     },
     "execution_count": 167,
     "metadata": {},
     "output_type": "execute_result"
    }
   ],
   "source": [
    "FIRST_DAY = rdf[Col.DATE].values[0]\n",
    "FIRST_DAY"
   ]
  },
  {
   "cell_type": "code",
   "execution_count": 168,
   "id": "cbd476eb-1ed1-4cd3-b610-7ca200bf849c",
   "metadata": {},
   "outputs": [
    {
     "data": {
      "text/plain": [
       "[1, 2, 3, 4, 5, 6, 7, 8, 9]"
      ]
     },
     "execution_count": 168,
     "metadata": {},
     "output_type": "execute_result"
    }
   ],
   "source": [
    "WEEKS = list(range(1, 10))\n",
    "WEEKS"
   ]
  },
  {
   "cell_type": "code",
   "execution_count": 226,
   "id": "989a37d4-8fab-427d-88b2-75c16e1ceaf8",
   "metadata": {},
   "outputs": [
    {
     "data": {
      "text/plain": [
       "226384"
      ]
     },
     "execution_count": 226,
     "metadata": {},
     "output_type": "execute_result"
    }
   ],
   "source": [
    "rdf[Col.USER].nunique()"
   ]
  },
  {
   "cell_type": "code",
   "execution_count": 227,
   "id": "f0db3dd5-10f9-462c-9e20-8fd805bfbc25",
   "metadata": {},
   "outputs": [
    {
     "data": {
      "text/plain": [
       "2037456"
      ]
     },
     "execution_count": 227,
     "metadata": {},
     "output_type": "execute_result"
    }
   ],
   "source": [
    "226384 * 9"
   ]
  },
  {
   "cell_type": "markdown",
   "id": "ecd85502-7a81-4144-a70a-e6e183f1e9ed",
   "metadata": {},
   "source": [
    "## Dates and duration"
   ]
  },
  {
   "cell_type": "code",
   "execution_count": 169,
   "id": "6f89f606-e621-4f01-a5c3-ee8059625464",
   "metadata": {},
   "outputs": [
    {
     "data": {
      "text/plain": [
       "63"
      ]
     },
     "execution_count": 169,
     "metadata": {},
     "output_type": "execute_result"
    }
   ],
   "source": [
    "len(rdf[Col.DATE].unique())"
   ]
  },
  {
   "cell_type": "code",
   "execution_count": 170,
   "id": "041a7eae-f36f-45be-ad7c-e382472f316b",
   "metadata": {},
   "outputs": [
    {
     "data": {
      "text/plain": [
       "9.0"
      ]
     },
     "execution_count": 170,
     "metadata": {},
     "output_type": "execute_result"
    }
   ],
   "source": [
    "len(rdf[Col.DATE].unique()) / 7"
   ]
  },
  {
   "cell_type": "code",
   "execution_count": 171,
   "id": "75fd62cd-fa62-447c-b9bb-e718552ee1e3",
   "metadata": {},
   "outputs": [],
   "source": [
    "DAYS = sorted(rdf[Col.DATE].unique())"
   ]
  },
  {
   "cell_type": "code",
   "execution_count": 172,
   "id": "95e5f183-a7bf-4e79-a043-017ca7667275",
   "metadata": {},
   "outputs": [],
   "source": [
    "def days_by_week(week: int) -> List[str]:\n",
    "    i = (week - 1) * 7\n",
    "    return DAYS[i:i+7]"
   ]
  },
  {
   "cell_type": "code",
   "execution_count": 173,
   "id": "10e19da5-8f0b-4448-ab50-f86b986de6f7",
   "metadata": {},
   "outputs": [
    {
     "data": {
      "text/plain": [
       "[numpy.datetime64('2020-06-26T00:00:00.000000000'),\n",
       " numpy.datetime64('2020-06-27T00:00:00.000000000'),\n",
       " numpy.datetime64('2020-06-28T00:00:00.000000000'),\n",
       " numpy.datetime64('2020-06-29T00:00:00.000000000'),\n",
       " numpy.datetime64('2020-06-30T00:00:00.000000000'),\n",
       " numpy.datetime64('2020-07-01T00:00:00.000000000'),\n",
       " numpy.datetime64('2020-07-02T00:00:00.000000000')]"
      ]
     },
     "execution_count": 173,
     "metadata": {},
     "output_type": "execute_result"
    }
   ],
   "source": [
    "days_by_week(9)"
   ]
  },
  {
   "cell_type": "code",
   "execution_count": 174,
   "id": "bee26f11-297f-4538-9def-f4fca846569b",
   "metadata": {},
   "outputs": [],
   "source": [
    "def subdf_by_week(df: pd.DataFrame, week: int) -> pd.DataFrame:\n",
    "    return df[df[Col.DATE].isin(days_by_week(week))]"
   ]
  },
  {
   "cell_type": "code",
   "execution_count": 175,
   "id": "e588bfc1-9a62-43c5-a79c-794ad1e5ca9f",
   "metadata": {},
   "outputs": [],
   "source": [
    "sdf = pd.concat([rdf.iloc[0:100], rdf.iloc[900000:900100]])"
   ]
  },
  {
   "cell_type": "code",
   "execution_count": 176,
   "id": "99cba85f-cecc-4ad7-9c4b-a3535b7ebb31",
   "metadata": {},
   "outputs": [
    {
     "data": {
      "text/html": [
       "<div>\n",
       "<style scoped>\n",
       "    .dataframe tbody tr th:only-of-type {\n",
       "        vertical-align: middle;\n",
       "    }\n",
       "\n",
       "    .dataframe tbody tr th {\n",
       "        vertical-align: top;\n",
       "    }\n",
       "\n",
       "    .dataframe thead th {\n",
       "        text-align: right;\n",
       "    }\n",
       "</style>\n",
       "<table border=\"1\" class=\"dataframe\">\n",
       "  <thead>\n",
       "    <tr style=\"text-align: right;\">\n",
       "      <th></th>\n",
       "      <th>dt_date_ID</th>\n",
       "      <th>CID</th>\n",
       "      <th>Country_ID</th>\n",
       "      <th>GameType_ID</th>\n",
       "      <th>VendorID</th>\n",
       "      <th>Bets</th>\n",
       "    </tr>\n",
       "  </thead>\n",
       "  <tbody>\n",
       "    <tr>\n",
       "      <th>0</th>\n",
       "      <td>2020-05-01</td>\n",
       "      <td>798441298</td>\n",
       "      <td>84</td>\n",
       "      <td>504</td>\n",
       "      <td>27</td>\n",
       "      <td>$0.89</td>\n",
       "    </tr>\n",
       "    <tr>\n",
       "      <th>1</th>\n",
       "      <td>2020-05-01</td>\n",
       "      <td>799100355</td>\n",
       "      <td>37</td>\n",
       "      <td>2138</td>\n",
       "      <td>54</td>\n",
       "      <td>$0.66</td>\n",
       "    </tr>\n",
       "    <tr>\n",
       "      <th>2</th>\n",
       "      <td>2020-05-01</td>\n",
       "      <td>834556973</td>\n",
       "      <td>234</td>\n",
       "      <td>2244</td>\n",
       "      <td>71</td>\n",
       "      <td>$2.12</td>\n",
       "    </tr>\n",
       "    <tr>\n",
       "      <th>3</th>\n",
       "      <td>2020-05-01</td>\n",
       "      <td>825738816</td>\n",
       "      <td>234</td>\n",
       "      <td>2162</td>\n",
       "      <td>47</td>\n",
       "      <td>$5.51</td>\n",
       "    </tr>\n",
       "    <tr>\n",
       "      <th>4</th>\n",
       "      <td>2020-05-01</td>\n",
       "      <td>808929419</td>\n",
       "      <td>234</td>\n",
       "      <td>938</td>\n",
       "      <td>32</td>\n",
       "      <td>$7.96</td>\n",
       "    </tr>\n",
       "    <tr>\n",
       "      <th>...</th>\n",
       "      <td>...</td>\n",
       "      <td>...</td>\n",
       "      <td>...</td>\n",
       "      <td>...</td>\n",
       "      <td>...</td>\n",
       "      <td>...</td>\n",
       "    </tr>\n",
       "    <tr>\n",
       "      <th>900095</th>\n",
       "      <td>2020-05-16</td>\n",
       "      <td>802793752</td>\n",
       "      <td>54</td>\n",
       "      <td>1744</td>\n",
       "      <td>1</td>\n",
       "      <td>$0.68</td>\n",
       "    </tr>\n",
       "    <tr>\n",
       "      <th>900096</th>\n",
       "      <td>2020-05-16</td>\n",
       "      <td>821297948</td>\n",
       "      <td>84</td>\n",
       "      <td>593</td>\n",
       "      <td>1</td>\n",
       "      <td>$0.12</td>\n",
       "    </tr>\n",
       "    <tr>\n",
       "      <th>900097</th>\n",
       "      <td>2020-05-16</td>\n",
       "      <td>816818400</td>\n",
       "      <td>37</td>\n",
       "      <td>1370</td>\n",
       "      <td>47</td>\n",
       "      <td>$12.81</td>\n",
       "    </tr>\n",
       "    <tr>\n",
       "      <th>900098</th>\n",
       "      <td>2020-05-16</td>\n",
       "      <td>792475443</td>\n",
       "      <td>234</td>\n",
       "      <td>483</td>\n",
       "      <td>1</td>\n",
       "      <td>$0.25</td>\n",
       "    </tr>\n",
       "    <tr>\n",
       "      <th>900099</th>\n",
       "      <td>2020-05-16</td>\n",
       "      <td>823502371</td>\n",
       "      <td>234</td>\n",
       "      <td>483</td>\n",
       "      <td>1</td>\n",
       "      <td>$0.32</td>\n",
       "    </tr>\n",
       "  </tbody>\n",
       "</table>\n",
       "<p>200 rows × 6 columns</p>\n",
       "</div>"
      ],
      "text/plain": [
       "       dt_date_ID        CID  Country_ID  GameType_ID  VendorID   Bets\n",
       "0      2020-05-01  798441298          84          504        27  $0.89\n",
       "1      2020-05-01  799100355          37         2138        54  $0.66\n",
       "2      2020-05-01  834556973         234         2244        71  $2.12\n",
       "3      2020-05-01  825738816         234         2162        47  $5.51\n",
       "4      2020-05-01  808929419         234          938        32  $7.96\n",
       "...           ...        ...         ...          ...       ...    ...\n",
       "900095 2020-05-16  802793752          54         1744         1  $0.68\n",
       "900096 2020-05-16  821297948          84          593         1  $0.12\n",
       "900097 2020-05-16  816818400          37         1370        47 $12.81\n",
       "900098 2020-05-16  792475443         234          483         1  $0.25\n",
       "900099 2020-05-16  823502371         234          483         1  $0.32\n",
       "\n",
       "[200 rows x 6 columns]"
      ]
     },
     "execution_count": 176,
     "metadata": {},
     "output_type": "execute_result"
    }
   ],
   "source": [
    "sdf"
   ]
  },
  {
   "cell_type": "code",
   "execution_count": 177,
   "id": "ab57dc67-2471-49d2-a089-680796906f20",
   "metadata": {},
   "outputs": [],
   "source": [
    "day_to_week = {}\n",
    "for week in WEEKS:\n",
    "    days = days_by_week(week)\n",
    "    for day in days:\n",
    "        day_to_week[day] = week"
   ]
  },
  {
   "cell_type": "code",
   "execution_count": 178,
   "id": "94437f30-7bd2-4873-859d-6456bb0aa649",
   "metadata": {},
   "outputs": [],
   "source": [
    "# day_to_week"
   ]
  },
  {
   "cell_type": "code",
   "execution_count": 179,
   "id": "2a11716f-6ce5-4d2a-9229-580f906d0e12",
   "metadata": {},
   "outputs": [
    {
     "data": {
      "text/plain": [
       "0         1\n",
       "1         1\n",
       "2         1\n",
       "3         1\n",
       "4         1\n",
       "         ..\n",
       "900095    3\n",
       "900096    3\n",
       "900097    3\n",
       "900098    3\n",
       "900099    3\n",
       "Name: dt_date_ID, Length: 200, dtype: int64"
      ]
     },
     "execution_count": 179,
     "metadata": {},
     "output_type": "execute_result"
    }
   ],
   "source": [
    "sdf[Col.DATE].map(day_to_week)"
   ]
  },
  {
   "cell_type": "markdown",
   "id": "2cdb15a2-59e1-46c6-a2c0-17239cd4a2ab",
   "metadata": {},
   "source": [
    "### Add the week column"
   ]
  },
  {
   "cell_type": "code",
   "execution_count": 180,
   "id": "1e70f7da-e7a4-4d4a-a52a-bd3dc99e13a3",
   "metadata": {},
   "outputs": [],
   "source": [
    "rdf[Col.WEEK] = rdf[Col.DATE].map(day_to_week)"
   ]
  },
  {
   "cell_type": "code",
   "execution_count": 181,
   "id": "651e1d66-2ca8-4928-910b-9124b5527714",
   "metadata": {},
   "outputs": [
    {
     "data": {
      "text/html": [
       "<div>\n",
       "<style scoped>\n",
       "    .dataframe tbody tr th:only-of-type {\n",
       "        vertical-align: middle;\n",
       "    }\n",
       "\n",
       "    .dataframe tbody tr th {\n",
       "        vertical-align: top;\n",
       "    }\n",
       "\n",
       "    .dataframe thead th {\n",
       "        text-align: right;\n",
       "    }\n",
       "</style>\n",
       "<table border=\"1\" class=\"dataframe\">\n",
       "  <thead>\n",
       "    <tr style=\"text-align: right;\">\n",
       "      <th></th>\n",
       "      <th>dt_date_ID</th>\n",
       "      <th>CID</th>\n",
       "      <th>Country_ID</th>\n",
       "      <th>GameType_ID</th>\n",
       "      <th>VendorID</th>\n",
       "      <th>Bets</th>\n",
       "      <th>week</th>\n",
       "    </tr>\n",
       "  </thead>\n",
       "  <tbody>\n",
       "    <tr>\n",
       "      <th>0</th>\n",
       "      <td>2020-05-01</td>\n",
       "      <td>798441298</td>\n",
       "      <td>84</td>\n",
       "      <td>504</td>\n",
       "      <td>27</td>\n",
       "      <td>$0.89</td>\n",
       "      <td>1</td>\n",
       "    </tr>\n",
       "    <tr>\n",
       "      <th>1</th>\n",
       "      <td>2020-05-01</td>\n",
       "      <td>799100355</td>\n",
       "      <td>37</td>\n",
       "      <td>2138</td>\n",
       "      <td>54</td>\n",
       "      <td>$0.66</td>\n",
       "      <td>1</td>\n",
       "    </tr>\n",
       "    <tr>\n",
       "      <th>2</th>\n",
       "      <td>2020-05-01</td>\n",
       "      <td>834556973</td>\n",
       "      <td>234</td>\n",
       "      <td>2244</td>\n",
       "      <td>71</td>\n",
       "      <td>$2.12</td>\n",
       "      <td>1</td>\n",
       "    </tr>\n",
       "    <tr>\n",
       "      <th>3</th>\n",
       "      <td>2020-05-01</td>\n",
       "      <td>825738816</td>\n",
       "      <td>234</td>\n",
       "      <td>2162</td>\n",
       "      <td>47</td>\n",
       "      <td>$5.51</td>\n",
       "      <td>1</td>\n",
       "    </tr>\n",
       "    <tr>\n",
       "      <th>4</th>\n",
       "      <td>2020-05-01</td>\n",
       "      <td>808929419</td>\n",
       "      <td>234</td>\n",
       "      <td>938</td>\n",
       "      <td>32</td>\n",
       "      <td>$7.96</td>\n",
       "      <td>1</td>\n",
       "    </tr>\n",
       "    <tr>\n",
       "      <th>...</th>\n",
       "      <td>...</td>\n",
       "      <td>...</td>\n",
       "      <td>...</td>\n",
       "      <td>...</td>\n",
       "      <td>...</td>\n",
       "      <td>...</td>\n",
       "      <td>...</td>\n",
       "    </tr>\n",
       "    <tr>\n",
       "      <th>3401363</th>\n",
       "      <td>2020-07-02</td>\n",
       "      <td>754754251</td>\n",
       "      <td>234</td>\n",
       "      <td>2480</td>\n",
       "      <td>48</td>\n",
       "      <td>$7.16</td>\n",
       "      <td>9</td>\n",
       "    </tr>\n",
       "    <tr>\n",
       "      <th>3401364</th>\n",
       "      <td>2020-07-02</td>\n",
       "      <td>772112357</td>\n",
       "      <td>234</td>\n",
       "      <td>1172</td>\n",
       "      <td>28</td>\n",
       "      <td>$7.05</td>\n",
       "      <td>9</td>\n",
       "    </tr>\n",
       "    <tr>\n",
       "      <th>3401365</th>\n",
       "      <td>2020-07-02</td>\n",
       "      <td>766621428</td>\n",
       "      <td>73</td>\n",
       "      <td>1773</td>\n",
       "      <td>1</td>\n",
       "      <td>$5.71</td>\n",
       "      <td>9</td>\n",
       "    </tr>\n",
       "    <tr>\n",
       "      <th>3401366</th>\n",
       "      <td>2020-07-02</td>\n",
       "      <td>814027660</td>\n",
       "      <td>84</td>\n",
       "      <td>2373</td>\n",
       "      <td>82</td>\n",
       "      <td>$58.38</td>\n",
       "      <td>9</td>\n",
       "    </tr>\n",
       "    <tr>\n",
       "      <th>3401367</th>\n",
       "      <td>2020-07-02</td>\n",
       "      <td>835696845</td>\n",
       "      <td>84</td>\n",
       "      <td>2376</td>\n",
       "      <td>82</td>\n",
       "      <td>$0.67</td>\n",
       "      <td>9</td>\n",
       "    </tr>\n",
       "  </tbody>\n",
       "</table>\n",
       "<p>3401368 rows × 7 columns</p>\n",
       "</div>"
      ],
      "text/plain": [
       "        dt_date_ID        CID  Country_ID  GameType_ID  VendorID   Bets  week\n",
       "0       2020-05-01  798441298          84          504        27  $0.89     1\n",
       "1       2020-05-01  799100355          37         2138        54  $0.66     1\n",
       "2       2020-05-01  834556973         234         2244        71  $2.12     1\n",
       "3       2020-05-01  825738816         234         2162        47  $5.51     1\n",
       "4       2020-05-01  808929419         234          938        32  $7.96     1\n",
       "...            ...        ...         ...          ...       ...    ...   ...\n",
       "3401363 2020-07-02  754754251         234         2480        48  $7.16     9\n",
       "3401364 2020-07-02  772112357         234         1172        28  $7.05     9\n",
       "3401365 2020-07-02  766621428          73         1773         1  $5.71     9\n",
       "3401366 2020-07-02  814027660          84         2373        82 $58.38     9\n",
       "3401367 2020-07-02  835696845          84         2376        82  $0.67     9\n",
       "\n",
       "[3401368 rows x 7 columns]"
      ]
     },
     "execution_count": 181,
     "metadata": {},
     "output_type": "execute_result"
    }
   ],
   "source": [
    "rdf"
   ]
  },
  {
   "cell_type": "markdown",
   "id": "f4c4ee43-de86-4e5f-a776-aaf206c0dbc3",
   "metadata": {
    "tags": []
   },
   "source": [
    "## Bets"
   ]
  },
  {
   "cell_type": "code",
   "execution_count": 182,
   "id": "2f1a0fe2-ddab-48c7-9322-20f1241c91d1",
   "metadata": {},
   "outputs": [
    {
     "data": {
      "text/plain": [
       "count   $3,401,368.00\n",
       "mean           $95.31\n",
       "std         $1,002.74\n",
       "min             $0.00\n",
       "25%             $3.50\n",
       "50%            $12.16\n",
       "75%            $42.90\n",
       "max       $784,943.48\n",
       "Name: Bets, dtype: float64"
      ]
     },
     "execution_count": 182,
     "metadata": {},
     "output_type": "execute_result"
    }
   ],
   "source": [
    "rdf[Col.BETS].describe()"
   ]
  },
  {
   "cell_type": "code",
   "execution_count": 183,
   "id": "090e9a2d-bbe4-46ba-b82b-fa8a1b97c904",
   "metadata": {},
   "outputs": [
    {
     "data": {
      "text/plain": [
       "66016"
      ]
     },
     "execution_count": 183,
     "metadata": {},
     "output_type": "execute_result"
    }
   ],
   "source": [
    "sum(rdf[Col.BETS] < 0.1)"
   ]
  },
  {
   "cell_type": "markdown",
   "id": "d65fc43a-e8dc-4f3e-878e-e405f445bbc1",
   "metadata": {
    "tags": []
   },
   "source": [
    "### Daily per-user, per-game bets distributions"
   ]
  },
  {
   "cell_type": "code",
   "execution_count": 184,
   "id": "fe9cf6f8-d6a1-46f6-b8a0-7ef55c85b9be",
   "metadata": {},
   "outputs": [
    {
     "data": {
      "text/plain": [
       "<AxesSubplot:>"
      ]
     },
     "execution_count": 184,
     "metadata": {},
     "output_type": "execute_result"
    },
    {
     "data": {
      "image/png": "[encoded data removed]",
      "text/plain": [
       "<Figure size 432x288 with 1 Axes>"
      ]
     },
     "metadata": {
      "needs_background": "light"
     },
     "output_type": "display_data"
    }
   ],
   "source": [
    "rdf[Col.BETS].hist(bins=100)"
   ]
  },
  {
   "cell_type": "code",
   "execution_count": 185,
   "id": "e71df11d-0771-476e-81ea-6d35a9416a58",
   "metadata": {},
   "outputs": [
    {
     "data": {
      "text/plain": [
       "<AxesSubplot:>"
      ]
     },
     "execution_count": 185,
     "metadata": {},
     "output_type": "execute_result"
    },
    {
     "data": {
      "image/png": "[encoded data removed]",
      "text/plain": [
       "<Figure size 432x288 with 1 Axes>"
      ]
     },
     "metadata": {
      "needs_background": "light"
     },
     "output_type": "display_data"
    }
   ],
   "source": [
    "rdf[Col.BETS].hist(bins=100, range=(0,1000))"
   ]
  },
  {
   "cell_type": "code",
   "execution_count": 186,
   "id": "a3c794f8-4263-42fe-be2d-f6f876e8da53",
   "metadata": {},
   "outputs": [
    {
     "data": {
      "text/plain": [
       "<AxesSubplot:>"
      ]
     },
     "execution_count": 186,
     "metadata": {},
     "output_type": "execute_result"
    },
    {
     "data": {
      "image/png": "[encoded data removed]",
      "text/plain": [
       "<Figure size 432x288 with 1 Axes>"
      ]
     },
     "metadata": {
      "needs_background": "light"
     },
     "output_type": "display_data"
    }
   ],
   "source": [
    "rdf[Col.BETS].hist(bins=100, range=(0,100))"
   ]
  },
  {
   "cell_type": "markdown",
   "id": "0531232b-ae50-4f4d-aa8e-ca0f36140d47",
   "metadata": {},
   "source": [
    "### Overall per-user, per-game bets distributions"
   ]
  },
  {
   "cell_type": "code",
   "execution_count": 187,
   "id": "e922d4ca-db27-44aa-9789-35e88cd440c6",
   "metadata": {},
   "outputs": [
    {
     "data": {
      "text/plain": [
       "<AxesSubplot:>"
      ]
     },
     "execution_count": 187,
     "metadata": {},
     "output_type": "execute_result"
    },
    {
     "data": {
      "image/png": "[encoded data removed]",
      "text/plain": [
       "<Figure size 432x288 with 1 Axes>"
      ]
     },
     "metadata": {
      "needs_background": "light"
     },
     "output_type": "display_data"
    }
   ],
   "source": [
    "rdf.groupby([Col.USER, Col.GAME]).sum()[Col.BETS].hist(bins=100, range=(0,1000))"
   ]
  },
  {
   "cell_type": "code",
   "execution_count": 188,
   "id": "efbc829e-05d1-4ccf-b7c4-5f8cc8335c0f",
   "metadata": {},
   "outputs": [
    {
     "data": {
      "text/plain": [
       "<AxesSubplot:>"
      ]
     },
     "execution_count": 188,
     "metadata": {},
     "output_type": "execute_result"
    },
    {
     "data": {
      "image/png": "[encoded data removed]",
      "text/plain": [
       "<Figure size 432x288 with 1 Axes>"
      ]
     },
     "metadata": {
      "needs_background": "light"
     },
     "output_type": "display_data"
    }
   ],
   "source": [
    "rdf.groupby([Col.USER, Col.GAME]).sum()[Col.BETS].hist(bins=100, range=(0,100))"
   ]
  },
  {
   "cell_type": "markdown",
   "id": "15393bec-2a76-487b-ba58-33e48f171f71",
   "metadata": {},
   "source": [
    "## Top games over time"
   ]
  },
  {
   "cell_type": "code",
   "execution_count": 189,
   "id": "db2f6881-733e-41bc-906d-f0105a47efad",
   "metadata": {},
   "outputs": [
    {
     "data": {
      "text/plain": [
       "GameType_ID\n",
       "2196   $1,485,755.22\n",
       "954    $1,007,816.68\n",
       "512      $993,121.89\n",
       "1673     $801,898.54\n",
       "508      $783,562.06\n",
       "1307     $762,403.67\n",
       "2120     $564,812.30\n",
       "593      $546,287.99\n",
       "483      $529,845.62\n",
       "1033     $516,614.15\n",
       "Name: Bets, dtype: float64"
      ]
     },
     "execution_count": 189,
     "metadata": {},
     "output_type": "execute_result"
    }
   ],
   "source": [
    "rdf[rdf[Col.DATE].isin(days_by_week(1))].groupby(Col.GAME).sum(\n",
    "    )[Col.BETS].sort_values(ascending=False)[0:10]"
   ]
  },
  {
   "cell_type": "code",
   "execution_count": 190,
   "id": "ba446408-9a64-4b5c-a656-b9f41be74791",
   "metadata": {},
   "outputs": [],
   "source": [
    "def top_n_games_by_week(df: pd.DataFrame, week: int, n: Optional[int] = 10) -> pd.Series:\n",
    "    gb = subdf_by_week(df, week).groupby(Col.GAME)\n",
    "    return gb.sum()[Col.BETS].sort_values(ascending=False)[0:n]"
   ]
  },
  {
   "cell_type": "code",
   "execution_count": 191,
   "id": "a7acd95f-76b8-4893-9352-dfa35619a8d5",
   "metadata": {},
   "outputs": [
    {
     "data": {
      "text/plain": [
       "GameType_ID\n",
       "2196   $1,485,755.22\n",
       "954    $1,007,816.68\n",
       "512      $993,121.89\n",
       "1673     $801,898.54\n",
       "508      $783,562.06\n",
       "1307     $762,403.67\n",
       "2120     $564,812.30\n",
       "593      $546,287.99\n",
       "483      $529,845.62\n",
       "1033     $516,614.15\n",
       "Name: Bets, dtype: float64"
      ]
     },
     "execution_count": 191,
     "metadata": {},
     "output_type": "execute_result"
    }
   ],
   "source": [
    "top_n_games_by_week(rdf, 1)"
   ]
  },
  {
   "cell_type": "code",
   "execution_count": 192,
   "id": "927fb381-9fb1-43b2-b337-94d8e727c3df",
   "metadata": {},
   "outputs": [
    {
     "data": {
      "text/plain": [
       "GameType_ID\n",
       "2196   $1,412,061.72\n",
       "954      $949,952.21\n",
       "512      $695,997.46\n",
       "1307     $621,676.81\n",
       "1673     $611,606.30\n",
       "483      $518,127.98\n",
       "1033     $463,786.27\n",
       "2020     $450,438.75\n",
       "1714     $419,437.36\n",
       "1144     $417,278.88\n",
       "Name: Bets, dtype: float64"
      ]
     },
     "execution_count": 192,
     "metadata": {},
     "output_type": "execute_result"
    }
   ],
   "source": [
    "top_n_games_by_week(rdf, 2)"
   ]
  },
  {
   "cell_type": "code",
   "execution_count": 193,
   "id": "da2f8a55-3ec7-4b84-9a5d-0c7374841a60",
   "metadata": {},
   "outputs": [],
   "source": [
    "def top_n_games_over_entire_period(df: pd.DataFrame, n: Optional[int] = 10) -> pd.Series:\n",
    "    top_games = []\n",
    "    for w in WEEKS:\n",
    "        top_games.extend(top_n_games_by_week(df=df, week=w, n=n))\n",
    "    return set(top_games)"
   ]
  },
  {
   "cell_type": "code",
   "execution_count": 194,
   "id": "2cbe9d05-146b-45bd-93fe-1f4ff9141e6d",
   "metadata": {},
   "outputs": [],
   "source": [
    "top_10_join = top_n_games_over_entire_period(rdf)"
   ]
  },
  {
   "cell_type": "code",
   "execution_count": 195,
   "id": "a7b27c3f-ff31-4946-8ab8-66bf3ee44c8a",
   "metadata": {},
   "outputs": [
    {
     "data": {
      "text/plain": [
       "90"
      ]
     },
     "execution_count": 195,
     "metadata": {},
     "output_type": "execute_result"
    }
   ],
   "source": [
    "len(top_10_join)"
   ]
  },
  {
   "cell_type": "markdown",
   "id": "b29584db-263d-44a0-b3e3-58e1fc660b94",
   "metadata": {
    "tags": []
   },
   "source": [
    "## Introduced games"
   ]
  },
  {
   "cell_type": "code",
   "execution_count": 35,
   "id": "14dad44c-c721-49dd-a087-651da79d6dce",
   "metadata": {},
   "outputs": [],
   "source": [
    "game_intro_dates = rdf.groupby(Col.GAME).min()[Col.DATE]"
   ]
  },
  {
   "cell_type": "code",
   "execution_count": 36,
   "id": "7b0a5750-df52-44bf-afa9-69c68758f1c8",
   "metadata": {},
   "outputs": [
    {
     "data": {
      "image/png": "[encoded data removed]",
      "text/plain": [
       "<Figure size 432x288 with 1 Axes>"
      ]
     },
     "metadata": {
      "needs_background": "light"
     },
     "output_type": "display_data"
    }
   ],
   "source": [
    "game_intro_dates.hist(bins=100)\n",
    "plt.xticks(rotation=45);"
   ]
  },
  {
   "cell_type": "code",
   "execution_count": 37,
   "id": "7c835ab5-ea8c-46b0-8ee3-d32a3484b9a1",
   "metadata": {},
   "outputs": [
    {
     "data": {
      "text/plain": [
       "GameType_ID\n",
       "506    2020-06-09\n",
       "626    2020-05-02\n",
       "701    2020-06-05\n",
       "747    2020-05-02\n",
       "901    2020-06-11\n",
       "          ...    \n",
       "2509   2020-06-17\n",
       "2512   2020-06-25\n",
       "2513   2020-07-01\n",
       "2514   2020-07-01\n",
       "2518   2020-06-25\n",
       "Name: dt_date_ID, Length: 181, dtype: datetime64[ns]"
      ]
     },
     "execution_count": 37,
     "metadata": {},
     "output_type": "execute_result"
    }
   ],
   "source": [
    "game_intro_dates[game_intro_dates > FIRST_DAY]"
   ]
  },
  {
   "cell_type": "code",
   "execution_count": 38,
   "id": "b56d4786-c046-49eb-a814-fe81f358b01f",
   "metadata": {},
   "outputs": [
    {
     "data": {
      "text/plain": [
       "0.1608888888888889"
      ]
     },
     "execution_count": 38,
     "metadata": {},
     "output_type": "execute_result"
    }
   ],
   "source": [
    "len(game_intro_dates[game_intro_dates > FIRST_DAY]) / len(game_intro_dates)"
   ]
  },
  {
   "cell_type": "markdown",
   "id": "6f77cb54-cafb-41cf-a744-c19c11ff4cf2",
   "metadata": {},
   "source": [
    "## Top daily games per user over time"
   ]
  },
  {
   "cell_type": "code",
   "execution_count": 40,
   "id": "3a76d9bd-e01d-4876-b6b6-9c9b5678139a",
   "metadata": {},
   "outputs": [
    {
     "data": {
      "text/plain": [
       "798441298"
      ]
     },
     "execution_count": 40,
     "metadata": {},
     "output_type": "execute_result"
    }
   ],
   "source": [
    "FIRST_USER = rdf[Col.USER].iloc[0]\n",
    "FIRST_USER"
   ]
  },
  {
   "cell_type": "code",
   "execution_count": 42,
   "id": "4f19f2ef-58ec-414c-a42a-56cf7a79d24e",
   "metadata": {},
   "outputs": [
    {
     "data": {
      "text/html": [
       "<div>\n",
       "<style scoped>\n",
       "    .dataframe tbody tr th:only-of-type {\n",
       "        vertical-align: middle;\n",
       "    }\n",
       "\n",
       "    .dataframe tbody tr th {\n",
       "        vertical-align: top;\n",
       "    }\n",
       "\n",
       "    .dataframe thead th {\n",
       "        text-align: right;\n",
       "    }\n",
       "</style>\n",
       "<table border=\"1\" class=\"dataframe\">\n",
       "  <thead>\n",
       "    <tr style=\"text-align: right;\">\n",
       "      <th></th>\n",
       "      <th>dt_date_ID</th>\n",
       "      <th>CID</th>\n",
       "      <th>Country_ID</th>\n",
       "      <th>GameType_ID</th>\n",
       "      <th>VendorID</th>\n",
       "      <th>Bets</th>\n",
       "    </tr>\n",
       "  </thead>\n",
       "  <tbody>\n",
       "    <tr>\n",
       "      <th>0</th>\n",
       "      <td>2020-05-01</td>\n",
       "      <td>798441298</td>\n",
       "      <td>84</td>\n",
       "      <td>504</td>\n",
       "      <td>27</td>\n",
       "      <td>$0.89</td>\n",
       "    </tr>\n",
       "    <tr>\n",
       "      <th>24688</th>\n",
       "      <td>2020-05-01</td>\n",
       "      <td>798441298</td>\n",
       "      <td>84</td>\n",
       "      <td>1773</td>\n",
       "      <td>1</td>\n",
       "      <td>$0.08</td>\n",
       "    </tr>\n",
       "    <tr>\n",
       "      <th>38686</th>\n",
       "      <td>2020-05-01</td>\n",
       "      <td>798441298</td>\n",
       "      <td>84</td>\n",
       "      <td>1878</td>\n",
       "      <td>40</td>\n",
       "      <td>$96.70</td>\n",
       "    </tr>\n",
       "  </tbody>\n",
       "</table>\n",
       "</div>"
      ],
      "text/plain": [
       "      dt_date_ID        CID  Country_ID  GameType_ID  VendorID   Bets\n",
       "0     2020-05-01  798441298          84          504        27  $0.89\n",
       "24688 2020-05-01  798441298          84         1773         1  $0.08\n",
       "38686 2020-05-01  798441298          84         1878        40 $96.70"
      ]
     },
     "execution_count": 42,
     "metadata": {},
     "output_type": "execute_result"
    }
   ],
   "source": [
    "udf = rdf[rdf[Col.USER] == FIRST_USER]\n",
    "udf.head(3)"
   ]
  },
  {
   "cell_type": "code",
   "execution_count": 47,
   "id": "a0c772b2-a1a4-4b9b-b3c8-65f30e38e4e9",
   "metadata": {},
   "outputs": [
    {
     "data": {
      "text/plain": [
       "GameType_ID\n",
       "1878   $338.03\n",
       "884    $196.00\n",
       "1772    $57.55\n",
       "Name: Bets, dtype: float64"
      ]
     },
     "execution_count": 47,
     "metadata": {},
     "output_type": "execute_result"
    }
   ],
   "source": [
    "udf.groupby(Col.GAME).sum()[Col.BETS].sort_values(ascending=False)[0:3]"
   ]
  },
  {
   "cell_type": "code",
   "execution_count": 88,
   "id": "7d6e7fe6-aa18-494a-a1d1-3360d0e84868",
   "metadata": {},
   "outputs": [],
   "source": [
    "def all_top_n_weekly_games_by_user(df: pd.DataFrame, user: int, n: Optional[int] = 3) -> Set[int]:\n",
    "    top_games = []\n",
    "    for week in WEEKS:\n",
    "        sdf = subdf_by_week(df, week)\n",
    "        udf = sdf[sdf[Col.USER] == user]\n",
    "        top_games.extend(\n",
    "            udf.groupby(Col.GAME).sum().sort_values(Col.BETS, ascending=False).index[0:n])\n",
    "    return set(top_games)"
   ]
  },
  {
   "cell_type": "code",
   "execution_count": 89,
   "id": "9d92f667-2c2b-4ce0-a69f-3ec9b31126ed",
   "metadata": {},
   "outputs": [],
   "source": [
    "# udf.groupby(Col.GAME).sum().sort_values(Col.BETS, ascending=False)"
   ]
  },
  {
   "cell_type": "code",
   "execution_count": 90,
   "id": "151727e2-3334-4275-bcaa-173257a5ba97",
   "metadata": {},
   "outputs": [
    {
     "data": {
      "text/plain": [
       "{504, 884, 1113, 1317, 1772, 1878, 2011}"
      ]
     },
     "execution_count": 90,
     "metadata": {},
     "output_type": "execute_result"
    }
   ],
   "source": [
    "all_top_n_weekly_games_by_user(rdf, FIRST_USER)"
   ]
  },
  {
   "cell_type": "code",
   "execution_count": 91,
   "id": "5a7af598-50c4-4fa4-b342-b14337786355",
   "metadata": {},
   "outputs": [],
   "source": [
    "def unique_top_n_weekly_games_per_user_dist(\n",
    "    df: pd.DataFrame,\n",
    "    n: Optional[int] = 3,\n",
    "    users: Optional[List[int]] = None,\n",
    ") -> List[int]:\n",
    "    counts = []\n",
    "    if users is None:\n",
    "        users = list(df[Col.USER].unique())\n",
    "    for user in tqdm(users):\n",
    "        counts.append(len(all_top_n_weekly_games_by_user(df, user, n)))\n",
    "    return counts"
   ]
  },
  {
   "cell_type": "code",
   "execution_count": 92,
   "id": "49826a79-3cf3-48cd-8d1d-b5bc4f030456",
   "metadata": {},
   "outputs": [
    {
     "data": {
      "text/plain": [
       "226384"
      ]
     },
     "execution_count": 92,
     "metadata": {},
     "output_type": "execute_result"
    }
   ],
   "source": [
    "len(rdf[Col.USER].unique())"
   ]
  },
  {
   "cell_type": "code",
   "execution_count": 93,
   "id": "8d60f616-dd7b-4f79-80cc-52941fc2bc40",
   "metadata": {},
   "outputs": [
    {
     "data": {
      "text/plain": [
       "array([812278019, 825698049,   2528545, 811784376, 804667177, 825173854,\n",
       "       811881859, 808797388, 829113170, 820907835])"
      ]
     },
     "execution_count": 93,
     "metadata": {},
     "output_type": "execute_result"
    }
   ],
   "source": [
    "rdf[Col.USER].sample(10).values"
   ]
  },
  {
   "cell_type": "code",
   "execution_count": 94,
   "id": "ed2fe5b2-19c3-4fe1-8d24-50d64ce64b23",
   "metadata": {},
   "outputs": [
    {
     "data": {
      "application/vnd.jupyter.widget-view+json": {
       "model_id": "661e2f323bb9424f93c46a90570a7bce",
       "version_major": 2,
       "version_minor": 0
      },
      "text/plain": [
       "  0%|          | 0/1000 [00:00<?, ?it/s]"
      ]
     },
     "metadata": {},
     "output_type": "display_data"
    }
   ],
   "source": [
    "top3_per_user_counts = unique_top_n_weekly_games_per_user_dist(rdf, 3, users=rdf[Col.USER].sample(1000))"
   ]
  },
  {
   "cell_type": "code",
   "execution_count": 95,
   "id": "6564d318-fa8d-43d7-a271-78215a07cddf",
   "metadata": {},
   "outputs": [],
   "source": [
    "fpath = 'top3_per_user_counts.pkl'\n",
    "with open(fpath, 'wb+') as f:\n",
    "    pickle.dump(top3_per_user_counts, f)"
   ]
  },
  {
   "cell_type": "code",
   "execution_count": 100,
   "id": "a6eb44fa-db66-40a2-87cc-e90f6c1615ee",
   "metadata": {},
   "outputs": [
    {
     "data": {
      "text/plain": [
       "<AxesSubplot:ylabel='Count'>"
      ]
     },
     "execution_count": 100,
     "metadata": {},
     "output_type": "execute_result"
    },
    {
     "data": {
      "image/png": "[encoded data removed]",
      "text/plain": [
       "<Figure size 432x288 with 1 Axes>"
      ]
     },
     "metadata": {
      "needs_background": "light"
     },
     "output_type": "display_data"
    }
   ],
   "source": [
    "sns.histplot(top3_per_user_counts, bins=25)"
   ]
  },
  {
   "cell_type": "markdown",
   "id": "07395b83-888e-405e-b472-ae7a299257fa",
   "metadata": {},
   "source": [
    "## Choosing the rating scale"
   ]
  },
  {
   "cell_type": "code",
   "execution_count": 127,
   "id": "f173b6cf-5e1c-490c-b21f-54e8fe9f284e",
   "metadata": {},
   "outputs": [],
   "source": [
    "weekly_per_user_n_game_bets = rdf.groupby([Col.USER, Col.GAME, Col.WEEK]).sum()[Col.BETS]"
   ]
  },
  {
   "cell_type": "code",
   "execution_count": 131,
   "id": "2a9ba981-97e1-405b-9aee-25b396d52ed1",
   "metadata": {},
   "outputs": [
    {
     "data": {
      "text/plain": [
       "<AxesSubplot:>"
      ]
     },
     "execution_count": 131,
     "metadata": {},
     "output_type": "execute_result"
    },
    {
     "data": {
      "image/png": "[encoded data removed]",
      "text/plain": [
       "<Figure size 432x288 with 1 Axes>"
      ]
     },
     "metadata": {
      "needs_background": "light"
     },
     "output_type": "display_data"
    }
   ],
   "source": [
    "weekly_per_user_n_game_bets.hist(bins=100, range=(0,10000))"
   ]
  },
  {
   "cell_type": "code",
   "execution_count": 132,
   "id": "375fd631-ab45-4cb2-97e4-e6759b24cdf6",
   "metadata": {},
   "outputs": [
    {
     "data": {
      "text/plain": [
       "<AxesSubplot:>"
      ]
     },
     "execution_count": 132,
     "metadata": {},
     "output_type": "execute_result"
    },
    {
     "data": {
      "image/png": "[encoded data removed]",
      "text/plain": [
       "<Figure size 432x288 with 1 Axes>"
      ]
     },
     "metadata": {
      "needs_background": "light"
     },
     "output_type": "display_data"
    }
   ],
   "source": [
    "weekly_per_user_n_game_bets.hist(bins=100, range=(0,200))"
   ]
  },
  {
   "cell_type": "code",
   "execution_count": 133,
   "id": "f7b3177e-8a75-4323-9d88-e91c5f2e89d3",
   "metadata": {},
   "outputs": [
    {
     "data": {
      "text/plain": [
       "<AxesSubplot:>"
      ]
     },
     "execution_count": 133,
     "metadata": {},
     "output_type": "execute_result"
    },
    {
     "data": {
      "image/png": "[encoded data removed]",
      "text/plain": [
       "<Figure size 432x288 with 1 Axes>"
      ]
     },
     "metadata": {
      "needs_background": "light"
     },
     "output_type": "display_data"
    }
   ],
   "source": [
    "weekly_per_user_n_game_bets.hist(bins=100, range=(0,20))"
   ]
  },
  {
   "cell_type": "markdown",
   "id": "1d1465b1-1f9c-4242-9adf-dbf7d7eaaa5a",
   "metadata": {},
   "source": [
    "## Bets to rating"
   ]
  },
  {
   "cell_type": "markdown",
   "id": "37071bb6-a71f-465e-ae8f-b93c14b9d8a4",
   "metadata": {},
   "source": [
    "### Naive attempt"
   ]
  },
  {
   "cell_type": "code",
   "execution_count": 209,
   "id": "3fd48535-0283-4b85-85e1-21c9b172e07d",
   "metadata": {},
   "outputs": [
    {
     "data": {
      "text/plain": [
       "162.6905"
      ]
     },
     "execution_count": 209,
     "metadata": {},
     "output_type": "execute_result"
    }
   ],
   "source": [
    "np.percentile(weekly_per_user_n_game_bets, 90)"
   ]
  },
  {
   "cell_type": "code",
   "execution_count": 210,
   "id": "0cbdc071-5800-40bb-b366-a891d120ed2d",
   "metadata": {},
   "outputs": [
    {
     "data": {
      "text/plain": [
       "373.2436749999993"
      ]
     },
     "execution_count": 210,
     "metadata": {},
     "output_type": "execute_result"
    }
   ],
   "source": [
    "np.percentile(weekly_per_user_n_game_bets, 95)"
   ]
  },
  {
   "cell_type": "code",
   "execution_count": 137,
   "id": "d27d8968-c90d-453e-9f38-f2e2607f7018",
   "metadata": {},
   "outputs": [
    {
     "data": {
      "text/plain": [
       "11.935"
      ]
     },
     "execution_count": 137,
     "metadata": {},
     "output_type": "execute_result"
    }
   ],
   "source": [
    "np.percentile(weekly_per_user_n_game_bets, 50)"
   ]
  },
  {
   "cell_type": "code",
   "execution_count": 138,
   "id": "63602d96-df30-4b4f-afc2-0671c47da319",
   "metadata": {},
   "outputs": [
    {
     "data": {
      "text/plain": [
       "0.945"
      ]
     },
     "execution_count": 138,
     "metadata": {},
     "output_type": "execute_result"
    }
   ],
   "source": [
    "np.percentile(weekly_per_user_n_game_bets, 10)"
   ]
  },
  {
   "cell_type": "code",
   "execution_count": 139,
   "id": "8d531347-a776-4098-bf6a-4b5655ba791c",
   "metadata": {},
   "outputs": [
    {
     "data": {
      "text/plain": [
       "4.62"
      ]
     },
     "execution_count": 139,
     "metadata": {},
     "output_type": "execute_result"
    }
   ],
   "source": [
    "np.percentile(weekly_per_user_n_game_bets, 30)"
   ]
  },
  {
   "cell_type": "code",
   "execution_count": 140,
   "id": "465f7b6a-9f88-4f89-8d73-2aa06d74d5be",
   "metadata": {},
   "outputs": [
    {
     "data": {
      "text/plain": [
       "32.445"
      ]
     },
     "execution_count": 140,
     "metadata": {},
     "output_type": "execute_result"
    }
   ],
   "source": [
    "np.percentile(weekly_per_user_n_game_bets, 70)"
   ]
  },
  {
   "cell_type": "code",
   "execution_count": 146,
   "id": "07b61ab7-f916-4bb0-a7d9-246b9e44a06a",
   "metadata": {},
   "outputs": [],
   "source": [
    "class BetsRatingConverter:\n",
    "    \n",
    "    def __init__(self, cap1: float, cap2: float, cap3: float, cap4: float) -> None:\n",
    "        self.cap1 = cap1\n",
    "        self.cap2 = cap2\n",
    "        self.cap3 = cap3\n",
    "        self.cap4 = cap4 \n",
    "        \n",
    "    def __call__(self, bets_value: float) -> int:\n",
    "        if bets_value < self.cap1:\n",
    "            return 1\n",
    "        if bets_value < self.cap2:\n",
    "            return 2\n",
    "        if bets_value < self.cap3:\n",
    "            return 3\n",
    "        if bets_value < self.cap4:\n",
    "            return 4\n",
    "        return 5"
   ]
  },
  {
   "cell_type": "code",
   "execution_count": 153,
   "id": "9496d7ae-2046-4bde-a546-2926283330a9",
   "metadata": {},
   "outputs": [],
   "source": [
    "bets2ratings = pdp.MapColVals(\n",
    "    columns=Col.BETS,\n",
    "    value_map=BetsRatingConverter(1, 5, 32, 160),\n",
    "    result_columns=Col.RATING,\n",
    "    drop=False,\n",
    ")"
   ]
  },
  {
   "cell_type": "code",
   "execution_count": 155,
   "id": "918bdc0e-1b66-46ff-b583-223ee73fad2c",
   "metadata": {},
   "outputs": [
    {
     "data": {
      "text/html": [
       "<div>\n",
       "<style scoped>\n",
       "    .dataframe tbody tr th:only-of-type {\n",
       "        vertical-align: middle;\n",
       "    }\n",
       "\n",
       "    .dataframe tbody tr th {\n",
       "        vertical-align: top;\n",
       "    }\n",
       "\n",
       "    .dataframe thead th {\n",
       "        text-align: right;\n",
       "    }\n",
       "</style>\n",
       "<table border=\"1\" class=\"dataframe\">\n",
       "  <thead>\n",
       "    <tr style=\"text-align: right;\">\n",
       "      <th></th>\n",
       "      <th>dt_date_ID</th>\n",
       "      <th>CID</th>\n",
       "      <th>Country_ID</th>\n",
       "      <th>GameType_ID</th>\n",
       "      <th>VendorID</th>\n",
       "      <th>Bets</th>\n",
       "      <th>rating</th>\n",
       "      <th>week</th>\n",
       "    </tr>\n",
       "  </thead>\n",
       "  <tbody>\n",
       "    <tr>\n",
       "      <th>0</th>\n",
       "      <td>2020-05-01</td>\n",
       "      <td>798441298</td>\n",
       "      <td>84</td>\n",
       "      <td>504</td>\n",
       "      <td>27</td>\n",
       "      <td>$0.89</td>\n",
       "      <td>1</td>\n",
       "      <td>1</td>\n",
       "    </tr>\n",
       "    <tr>\n",
       "      <th>1</th>\n",
       "      <td>2020-05-01</td>\n",
       "      <td>799100355</td>\n",
       "      <td>37</td>\n",
       "      <td>2138</td>\n",
       "      <td>54</td>\n",
       "      <td>$0.66</td>\n",
       "      <td>1</td>\n",
       "      <td>1</td>\n",
       "    </tr>\n",
       "    <tr>\n",
       "      <th>2</th>\n",
       "      <td>2020-05-01</td>\n",
       "      <td>834556973</td>\n",
       "      <td>234</td>\n",
       "      <td>2244</td>\n",
       "      <td>71</td>\n",
       "      <td>$2.12</td>\n",
       "      <td>2</td>\n",
       "      <td>1</td>\n",
       "    </tr>\n",
       "    <tr>\n",
       "      <th>3</th>\n",
       "      <td>2020-05-01</td>\n",
       "      <td>825738816</td>\n",
       "      <td>234</td>\n",
       "      <td>2162</td>\n",
       "      <td>47</td>\n",
       "      <td>$5.51</td>\n",
       "      <td>3</td>\n",
       "      <td>1</td>\n",
       "    </tr>\n",
       "    <tr>\n",
       "      <th>4</th>\n",
       "      <td>2020-05-01</td>\n",
       "      <td>808929419</td>\n",
       "      <td>234</td>\n",
       "      <td>938</td>\n",
       "      <td>32</td>\n",
       "      <td>$7.96</td>\n",
       "      <td>3</td>\n",
       "      <td>1</td>\n",
       "    </tr>\n",
       "    <tr>\n",
       "      <th>...</th>\n",
       "      <td>...</td>\n",
       "      <td>...</td>\n",
       "      <td>...</td>\n",
       "      <td>...</td>\n",
       "      <td>...</td>\n",
       "      <td>...</td>\n",
       "      <td>...</td>\n",
       "      <td>...</td>\n",
       "    </tr>\n",
       "    <tr>\n",
       "      <th>3401363</th>\n",
       "      <td>2020-07-02</td>\n",
       "      <td>754754251</td>\n",
       "      <td>234</td>\n",
       "      <td>2480</td>\n",
       "      <td>48</td>\n",
       "      <td>$7.16</td>\n",
       "      <td>3</td>\n",
       "      <td>9</td>\n",
       "    </tr>\n",
       "    <tr>\n",
       "      <th>3401364</th>\n",
       "      <td>2020-07-02</td>\n",
       "      <td>772112357</td>\n",
       "      <td>234</td>\n",
       "      <td>1172</td>\n",
       "      <td>28</td>\n",
       "      <td>$7.05</td>\n",
       "      <td>3</td>\n",
       "      <td>9</td>\n",
       "    </tr>\n",
       "    <tr>\n",
       "      <th>3401365</th>\n",
       "      <td>2020-07-02</td>\n",
       "      <td>766621428</td>\n",
       "      <td>73</td>\n",
       "      <td>1773</td>\n",
       "      <td>1</td>\n",
       "      <td>$5.71</td>\n",
       "      <td>3</td>\n",
       "      <td>9</td>\n",
       "    </tr>\n",
       "    <tr>\n",
       "      <th>3401366</th>\n",
       "      <td>2020-07-02</td>\n",
       "      <td>814027660</td>\n",
       "      <td>84</td>\n",
       "      <td>2373</td>\n",
       "      <td>82</td>\n",
       "      <td>$58.38</td>\n",
       "      <td>4</td>\n",
       "      <td>9</td>\n",
       "    </tr>\n",
       "    <tr>\n",
       "      <th>3401367</th>\n",
       "      <td>2020-07-02</td>\n",
       "      <td>835696845</td>\n",
       "      <td>84</td>\n",
       "      <td>2376</td>\n",
       "      <td>82</td>\n",
       "      <td>$0.67</td>\n",
       "      <td>1</td>\n",
       "      <td>9</td>\n",
       "    </tr>\n",
       "  </tbody>\n",
       "</table>\n",
       "<p>3401368 rows × 8 columns</p>\n",
       "</div>"
      ],
      "text/plain": [
       "        dt_date_ID        CID  Country_ID  GameType_ID  VendorID   Bets  \\\n",
       "0       2020-05-01  798441298          84          504        27  $0.89   \n",
       "1       2020-05-01  799100355          37         2138        54  $0.66   \n",
       "2       2020-05-01  834556973         234         2244        71  $2.12   \n",
       "3       2020-05-01  825738816         234         2162        47  $5.51   \n",
       "4       2020-05-01  808929419         234          938        32  $7.96   \n",
       "...            ...        ...         ...          ...       ...    ...   \n",
       "3401363 2020-07-02  754754251         234         2480        48  $7.16   \n",
       "3401364 2020-07-02  772112357         234         1172        28  $7.05   \n",
       "3401365 2020-07-02  766621428          73         1773         1  $5.71   \n",
       "3401366 2020-07-02  814027660          84         2373        82 $58.38   \n",
       "3401367 2020-07-02  835696845          84         2376        82  $0.67   \n",
       "\n",
       "         rating  week  \n",
       "0             1     1  \n",
       "1             1     1  \n",
       "2             2     1  \n",
       "3             3     1  \n",
       "4             3     1  \n",
       "...         ...   ...  \n",
       "3401363       3     9  \n",
       "3401364       3     9  \n",
       "3401365       3     9  \n",
       "3401366       4     9  \n",
       "3401367       1     9  \n",
       "\n",
       "[3401368 rows x 8 columns]"
      ]
     },
     "execution_count": 155,
     "metadata": {},
     "output_type": "execute_result"
    }
   ],
   "source": [
    "post_df = bets2ratings(rdf)\n",
    "post_df"
   ]
  },
  {
   "cell_type": "code",
   "execution_count": null,
   "id": "f1370c90-649f-440e-8729-7440a6011f82",
   "metadata": {},
   "outputs": [],
   "source": [
    "post_df[Col.RATING].hist()"
   ]
  },
  {
   "cell_type": "markdown",
   "id": "17b5ea63-9b66-4838-933a-5773e5135b0a",
   "metadata": {},
   "source": [
    "### Per-user scale"
   ]
  },
  {
   "cell_type": "code",
   "execution_count": 219,
   "id": "bf54ea08-e9d2-485c-84bf-8782d6c8fdc8",
   "metadata": {},
   "outputs": [],
   "source": [
    "# subdf = rdf[[Col.USER, Col.WEEK, Col.GAME, Col.BETS]].iloc[0:400000]"
   ]
  },
  {
   "cell_type": "code",
   "execution_count": 266,
   "id": "b61fbf53-27fe-474c-b342-3b772f010a73",
   "metadata": {},
   "outputs": [
    {
     "data": {
      "text/plain": [
       "0.11759974222136504"
      ]
     },
     "execution_count": 266,
     "metadata": {},
     "output_type": "execute_result"
    }
   ],
   "source": [
    "# 400000 / len(rdf)"
   ]
  },
  {
   "cell_type": "code",
   "execution_count": 220,
   "id": "86a5dd0e-0979-43c6-816d-2570b0bb708b",
   "metadata": {},
   "outputs": [
    {
     "data": {
      "text/html": [
       "<div>\n",
       "<style scoped>\n",
       "    .dataframe tbody tr th:only-of-type {\n",
       "        vertical-align: middle;\n",
       "    }\n",
       "\n",
       "    .dataframe tbody tr th {\n",
       "        vertical-align: top;\n",
       "    }\n",
       "\n",
       "    .dataframe thead th {\n",
       "        text-align: right;\n",
       "    }\n",
       "</style>\n",
       "<table border=\"1\" class=\"dataframe\">\n",
       "  <thead>\n",
       "    <tr style=\"text-align: right;\">\n",
       "      <th></th>\n",
       "      <th>CID</th>\n",
       "      <th>week</th>\n",
       "      <th>GameType_ID</th>\n",
       "      <th>Bets</th>\n",
       "    </tr>\n",
       "  </thead>\n",
       "  <tbody>\n",
       "    <tr>\n",
       "      <th>0</th>\n",
       "      <td>798441298</td>\n",
       "      <td>1</td>\n",
       "      <td>504</td>\n",
       "      <td>$0.89</td>\n",
       "    </tr>\n",
       "    <tr>\n",
       "      <th>1</th>\n",
       "      <td>799100355</td>\n",
       "      <td>1</td>\n",
       "      <td>2138</td>\n",
       "      <td>$0.66</td>\n",
       "    </tr>\n",
       "    <tr>\n",
       "      <th>2</th>\n",
       "      <td>834556973</td>\n",
       "      <td>1</td>\n",
       "      <td>2244</td>\n",
       "      <td>$2.12</td>\n",
       "    </tr>\n",
       "    <tr>\n",
       "      <th>3</th>\n",
       "      <td>825738816</td>\n",
       "      <td>1</td>\n",
       "      <td>2162</td>\n",
       "      <td>$5.51</td>\n",
       "    </tr>\n",
       "    <tr>\n",
       "      <th>4</th>\n",
       "      <td>808929419</td>\n",
       "      <td>1</td>\n",
       "      <td>938</td>\n",
       "      <td>$7.96</td>\n",
       "    </tr>\n",
       "    <tr>\n",
       "      <th>...</th>\n",
       "      <td>...</td>\n",
       "      <td>...</td>\n",
       "      <td>...</td>\n",
       "      <td>...</td>\n",
       "    </tr>\n",
       "    <tr>\n",
       "      <th>399995</th>\n",
       "      <td>836581350</td>\n",
       "      <td>1</td>\n",
       "      <td>1774</td>\n",
       "      <td>$0.49</td>\n",
       "    </tr>\n",
       "    <tr>\n",
       "      <th>399996</th>\n",
       "      <td>811331697</td>\n",
       "      <td>1</td>\n",
       "      <td>1095</td>\n",
       "      <td>$86.01</td>\n",
       "    </tr>\n",
       "    <tr>\n",
       "      <th>399997</th>\n",
       "      <td>833798045</td>\n",
       "      <td>1</td>\n",
       "      <td>2035</td>\n",
       "      <td>$3.37</td>\n",
       "    </tr>\n",
       "    <tr>\n",
       "      <th>399998</th>\n",
       "      <td>825169915</td>\n",
       "      <td>1</td>\n",
       "      <td>512</td>\n",
       "      <td>$6.24</td>\n",
       "    </tr>\n",
       "    <tr>\n",
       "      <th>399999</th>\n",
       "      <td>828355269</td>\n",
       "      <td>1</td>\n",
       "      <td>954</td>\n",
       "      <td>$11.22</td>\n",
       "    </tr>\n",
       "  </tbody>\n",
       "</table>\n",
       "<p>400000 rows × 4 columns</p>\n",
       "</div>"
      ],
      "text/plain": [
       "              CID  week  GameType_ID   Bets\n",
       "0       798441298     1          504  $0.89\n",
       "1       799100355     1         2138  $0.66\n",
       "2       834556973     1         2244  $2.12\n",
       "3       825738816     1         2162  $5.51\n",
       "4       808929419     1          938  $7.96\n",
       "...           ...   ...          ...    ...\n",
       "399995  836581350     1         1774  $0.49\n",
       "399996  811331697     1         1095 $86.01\n",
       "399997  833798045     1         2035  $3.37\n",
       "399998  825169915     1          512  $6.24\n",
       "399999  828355269     1          954 $11.22\n",
       "\n",
       "[400000 rows x 4 columns]"
      ]
     },
     "execution_count": 220,
     "metadata": {},
     "output_type": "execute_result"
    }
   ],
   "source": [
    "# subdf"
   ]
  },
  {
   "cell_type": "code",
   "execution_count": 267,
   "id": "4b2f2b09-2cf5-4ea2-a0a3-7e107f5ccc9c",
   "metadata": {},
   "outputs": [],
   "source": [
    "uwg_gb = rdf.groupby([Col.USER, Col.WEEK, Col.GAME])"
   ]
  },
  {
   "cell_type": "code",
   "execution_count": 268,
   "id": "96800f60-803d-4a12-b75f-b9fafa3fc877",
   "metadata": {},
   "outputs": [
    {
     "data": {
      "text/html": [
       "<div>\n",
       "<style scoped>\n",
       "    .dataframe tbody tr th:only-of-type {\n",
       "        vertical-align: middle;\n",
       "    }\n",
       "\n",
       "    .dataframe tbody tr th {\n",
       "        vertical-align: top;\n",
       "    }\n",
       "\n",
       "    .dataframe thead th {\n",
       "        text-align: right;\n",
       "    }\n",
       "</style>\n",
       "<table border=\"1\" class=\"dataframe\">\n",
       "  <thead>\n",
       "    <tr style=\"text-align: right;\">\n",
       "      <th></th>\n",
       "      <th></th>\n",
       "      <th></th>\n",
       "      <th>Country_ID</th>\n",
       "      <th>VendorID</th>\n",
       "      <th>Bets</th>\n",
       "    </tr>\n",
       "    <tr>\n",
       "      <th>CID</th>\n",
       "      <th>week</th>\n",
       "      <th>GameType_ID</th>\n",
       "      <th></th>\n",
       "      <th></th>\n",
       "      <th></th>\n",
       "    </tr>\n",
       "  </thead>\n",
       "  <tbody>\n",
       "    <tr>\n",
       "      <th rowspan=\"5\" valign=\"top\">35485</th>\n",
       "      <th>1</th>\n",
       "      <th>611</th>\n",
       "      <td>798</td>\n",
       "      <td>7</td>\n",
       "      <td>$18,492.08</td>\n",
       "    </tr>\n",
       "    <tr>\n",
       "      <th>2</th>\n",
       "      <th>611</th>\n",
       "      <td>684</td>\n",
       "      <td>6</td>\n",
       "      <td>$12,140.98</td>\n",
       "    </tr>\n",
       "    <tr>\n",
       "      <th>4</th>\n",
       "      <th>611</th>\n",
       "      <td>342</td>\n",
       "      <td>3</td>\n",
       "      <td>$6,537.30</td>\n",
       "    </tr>\n",
       "    <tr>\n",
       "      <th>5</th>\n",
       "      <th>611</th>\n",
       "      <td>798</td>\n",
       "      <td>7</td>\n",
       "      <td>$13,700.31</td>\n",
       "    </tr>\n",
       "    <tr>\n",
       "      <th>6</th>\n",
       "      <th>611</th>\n",
       "      <td>570</td>\n",
       "      <td>5</td>\n",
       "      <td>$6,064.10</td>\n",
       "    </tr>\n",
       "    <tr>\n",
       "      <th>...</th>\n",
       "      <th>...</th>\n",
       "      <th>...</th>\n",
       "      <td>...</td>\n",
       "      <td>...</td>\n",
       "      <td>...</td>\n",
       "    </tr>\n",
       "    <tr>\n",
       "      <th rowspan=\"2\" valign=\"top\">838502307</th>\n",
       "      <th>5</th>\n",
       "      <th>1035</th>\n",
       "      <td>234</td>\n",
       "      <td>21</td>\n",
       "      <td>$8.99</td>\n",
       "    </tr>\n",
       "    <tr>\n",
       "      <th>7</th>\n",
       "      <th>1035</th>\n",
       "      <td>468</td>\n",
       "      <td>42</td>\n",
       "      <td>$46.11</td>\n",
       "    </tr>\n",
       "    <tr>\n",
       "      <th rowspan=\"3\" valign=\"top\">838502409</th>\n",
       "      <th rowspan=\"3\" valign=\"top\">1</th>\n",
       "      <th>438</th>\n",
       "      <td>234</td>\n",
       "      <td>1</td>\n",
       "      <td>$2.33</td>\n",
       "    </tr>\n",
       "    <tr>\n",
       "      <th>483</th>\n",
       "      <td>234</td>\n",
       "      <td>1</td>\n",
       "      <td>$2.13</td>\n",
       "    </tr>\n",
       "    <tr>\n",
       "      <th>954</th>\n",
       "      <td>234</td>\n",
       "      <td>35</td>\n",
       "      <td>$2.76</td>\n",
       "    </tr>\n",
       "  </tbody>\n",
       "</table>\n",
       "<p>2506620 rows × 3 columns</p>\n",
       "</div>"
      ],
      "text/plain": [
       "                            Country_ID  VendorID       Bets\n",
       "CID       week GameType_ID                                 \n",
       "35485     1    611                 798         7 $18,492.08\n",
       "          2    611                 684         6 $12,140.98\n",
       "          4    611                 342         3  $6,537.30\n",
       "          5    611                 798         7 $13,700.31\n",
       "          6    611                 570         5  $6,064.10\n",
       "...                                ...       ...        ...\n",
       "838502307 5    1035                234        21      $8.99\n",
       "          7    1035                468        42     $46.11\n",
       "838502409 1    438                 234         1      $2.33\n",
       "               483                 234         1      $2.13\n",
       "               954                 234        35      $2.76\n",
       "\n",
       "[2506620 rows x 3 columns]"
      ]
     },
     "execution_count": 268,
     "metadata": {},
     "output_type": "execute_result"
    }
   ],
   "source": [
    "weekly_per_user_and_game_bets = uwg_gb.sum()\n",
    "weekly_per_user_and_game_bets"
   ]
  },
  {
   "cell_type": "code",
   "execution_count": 269,
   "id": "c4b012c8-0efe-43e2-9f70-57e862b6f692",
   "metadata": {},
   "outputs": [
    {
     "data": {
      "text/html": [
       "<div>\n",
       "<style scoped>\n",
       "    .dataframe tbody tr th:only-of-type {\n",
       "        vertical-align: middle;\n",
       "    }\n",
       "\n",
       "    .dataframe tbody tr th {\n",
       "        vertical-align: top;\n",
       "    }\n",
       "\n",
       "    .dataframe thead th {\n",
       "        text-align: right;\n",
       "    }\n",
       "</style>\n",
       "<table border=\"1\" class=\"dataframe\">\n",
       "  <thead>\n",
       "    <tr style=\"text-align: right;\">\n",
       "      <th></th>\n",
       "      <th></th>\n",
       "      <th>Country_ID</th>\n",
       "      <th>VendorID</th>\n",
       "      <th>Bets</th>\n",
       "    </tr>\n",
       "    <tr>\n",
       "      <th>CID</th>\n",
       "      <th>week</th>\n",
       "      <th></th>\n",
       "      <th></th>\n",
       "      <th></th>\n",
       "    </tr>\n",
       "  </thead>\n",
       "  <tbody>\n",
       "    <tr>\n",
       "      <th rowspan=\"5\" valign=\"top\">35485</th>\n",
       "      <th>1</th>\n",
       "      <td>798</td>\n",
       "      <td>7</td>\n",
       "      <td>$18,492.08</td>\n",
       "    </tr>\n",
       "    <tr>\n",
       "      <th>2</th>\n",
       "      <td>684</td>\n",
       "      <td>6</td>\n",
       "      <td>$12,140.98</td>\n",
       "    </tr>\n",
       "    <tr>\n",
       "      <th>4</th>\n",
       "      <td>342</td>\n",
       "      <td>3</td>\n",
       "      <td>$6,537.30</td>\n",
       "    </tr>\n",
       "    <tr>\n",
       "      <th>5</th>\n",
       "      <td>798</td>\n",
       "      <td>7</td>\n",
       "      <td>$13,700.31</td>\n",
       "    </tr>\n",
       "    <tr>\n",
       "      <th>6</th>\n",
       "      <td>570</td>\n",
       "      <td>5</td>\n",
       "      <td>$6,064.10</td>\n",
       "    </tr>\n",
       "    <tr>\n",
       "      <th>...</th>\n",
       "      <th>...</th>\n",
       "      <td>...</td>\n",
       "      <td>...</td>\n",
       "      <td>...</td>\n",
       "    </tr>\n",
       "    <tr>\n",
       "      <th>838502174</th>\n",
       "      <th>1</th>\n",
       "      <td>168</td>\n",
       "      <td>81</td>\n",
       "      <td>$23.59</td>\n",
       "    </tr>\n",
       "    <tr>\n",
       "      <th rowspan=\"3\" valign=\"top\">838502307</th>\n",
       "      <th>4</th>\n",
       "      <td>234</td>\n",
       "      <td>21</td>\n",
       "      <td>$8.80</td>\n",
       "    </tr>\n",
       "    <tr>\n",
       "      <th>5</th>\n",
       "      <td>234</td>\n",
       "      <td>21</td>\n",
       "      <td>$8.99</td>\n",
       "    </tr>\n",
       "    <tr>\n",
       "      <th>7</th>\n",
       "      <td>468</td>\n",
       "      <td>42</td>\n",
       "      <td>$46.11</td>\n",
       "    </tr>\n",
       "    <tr>\n",
       "      <th>838502409</th>\n",
       "      <th>1</th>\n",
       "      <td>702</td>\n",
       "      <td>37</td>\n",
       "      <td>$7.22</td>\n",
       "    </tr>\n",
       "  </tbody>\n",
       "</table>\n",
       "<p>470809 rows × 3 columns</p>\n",
       "</div>"
      ],
      "text/plain": [
       "                Country_ID  VendorID       Bets\n",
       "CID       week                                 \n",
       "35485     1            798         7 $18,492.08\n",
       "          2            684         6 $12,140.98\n",
       "          4            342         3  $6,537.30\n",
       "          5            798         7 $13,700.31\n",
       "          6            570         5  $6,064.10\n",
       "...                    ...       ...        ...\n",
       "838502174 1            168        81     $23.59\n",
       "838502307 4            234        21      $8.80\n",
       "          5            234        21      $8.99\n",
       "          7            468        42     $46.11\n",
       "838502409 1            702        37      $7.22\n",
       "\n",
       "[470809 rows x 3 columns]"
      ]
     },
     "execution_count": 269,
     "metadata": {},
     "output_type": "execute_result"
    }
   ],
   "source": [
    "weekly_per_user_bets = weekly_per_user_and_game_bets.groupby([Col.USER, Col.WEEK]).sum()\n",
    "weekly_per_user_bets"
   ]
  },
  {
   "cell_type": "markdown",
   "id": "658b3607-f00e-414a-8767-16a750f089bc",
   "metadata": {},
   "source": [
    "Per-user ratings relative to weekly spend:\n",
    "\n",
    "```python\n",
    "5: (v >= 0.30 weekly spend AND v > 10$) OR (v > 1000$)\n",
    "\n",
    "4: (v >= 0.20 weekly spend AND v >  7$) OR (v >  500$)\n",
    "\n",
    "3: (v >= 0.15 weekly spend AND v >  5$) OR (v >  300$)\n",
    "\n",
    "2: (v >= 0.10 weekly spend AND v >  1$) OR (v >  100$)\n",
    "\n",
    "1: else\n",
    "```"
   ]
  },
  {
   "cell_type": "code",
   "execution_count": 270,
   "id": "54b0647e-d525-4ff5-9bc1-d5043acd5367",
   "metadata": {},
   "outputs": [],
   "source": [
    "PORTIONS = np.array([0.3, 0.2, 0.15, 0.1])"
   ]
  },
  {
   "cell_type": "code",
   "execution_count": 271,
   "id": "6ee6420c-b94e-4737-8a34-3b83a71ee52b",
   "metadata": {},
   "outputs": [],
   "source": [
    "PORTIONS_LBLS = ['portion0.3', 'portion0.2', 'portion0.15', 'portion0.1']"
   ]
  },
  {
   "cell_type": "code",
   "execution_count": 272,
   "id": "84ec023d-9505-4a87-a3ba-e21685d585c3",
   "metadata": {},
   "outputs": [],
   "source": [
    "def _bets_to_portions(row):\n",
    "    return pd.Series(\n",
    "        data=row[Col.BETS] * PORTIONS,\n",
    "        index=PORTIONS_LBLS,\n",
    "    )"
   ]
  },
  {
   "cell_type": "code",
   "execution_count": 273,
   "id": "ae4e96ae-6aba-4d74-b3f7-2e849a87697f",
   "metadata": {},
   "outputs": [],
   "source": [
    "add_per_user_weekly_bets_portions = pdp.ApplyToRows(_bets_to_portions)"
   ]
  },
  {
   "cell_type": "code",
   "execution_count": 274,
   "id": "1b4f9250-68c8-41ba-a8c3-10c57dddb838",
   "metadata": {},
   "outputs": [],
   "source": [
    "weekly_per_user_bets = add_per_user_weekly_bets_portions(weekly_per_user_bets)"
   ]
  },
  {
   "cell_type": "code",
   "execution_count": 275,
   "id": "7b407303-ea37-4aa8-8cd5-00835c3ea715",
   "metadata": {},
   "outputs": [
    {
     "data": {
      "text/html": [
       "<div>\n",
       "<style scoped>\n",
       "    .dataframe tbody tr th:only-of-type {\n",
       "        vertical-align: middle;\n",
       "    }\n",
       "\n",
       "    .dataframe tbody tr th {\n",
       "        vertical-align: top;\n",
       "    }\n",
       "\n",
       "    .dataframe thead th {\n",
       "        text-align: right;\n",
       "    }\n",
       "</style>\n",
       "<table border=\"1\" class=\"dataframe\">\n",
       "  <thead>\n",
       "    <tr style=\"text-align: right;\">\n",
       "      <th></th>\n",
       "      <th></th>\n",
       "      <th>Country_ID</th>\n",
       "      <th>VendorID</th>\n",
       "      <th>Bets</th>\n",
       "      <th>portion0.1</th>\n",
       "      <th>portion0.15</th>\n",
       "      <th>portion0.2</th>\n",
       "      <th>portion0.3</th>\n",
       "    </tr>\n",
       "    <tr>\n",
       "      <th>CID</th>\n",
       "      <th>week</th>\n",
       "      <th></th>\n",
       "      <th></th>\n",
       "      <th></th>\n",
       "      <th></th>\n",
       "      <th></th>\n",
       "      <th></th>\n",
       "      <th></th>\n",
       "    </tr>\n",
       "  </thead>\n",
       "  <tbody>\n",
       "    <tr>\n",
       "      <th rowspan=\"5\" valign=\"top\">35485</th>\n",
       "      <th>1</th>\n",
       "      <td>798</td>\n",
       "      <td>7</td>\n",
       "      <td>$18,492.08</td>\n",
       "      <td>$1,849.21</td>\n",
       "      <td>$2,773.81</td>\n",
       "      <td>$3,698.42</td>\n",
       "      <td>$5,547.62</td>\n",
       "    </tr>\n",
       "    <tr>\n",
       "      <th>2</th>\n",
       "      <td>684</td>\n",
       "      <td>6</td>\n",
       "      <td>$12,140.98</td>\n",
       "      <td>$1,214.10</td>\n",
       "      <td>$1,821.15</td>\n",
       "      <td>$2,428.20</td>\n",
       "      <td>$3,642.29</td>\n",
       "    </tr>\n",
       "    <tr>\n",
       "      <th>4</th>\n",
       "      <td>342</td>\n",
       "      <td>3</td>\n",
       "      <td>$6,537.30</td>\n",
       "      <td>$653.73</td>\n",
       "      <td>$980.60</td>\n",
       "      <td>$1,307.46</td>\n",
       "      <td>$1,961.19</td>\n",
       "    </tr>\n",
       "    <tr>\n",
       "      <th>5</th>\n",
       "      <td>798</td>\n",
       "      <td>7</td>\n",
       "      <td>$13,700.31</td>\n",
       "      <td>$1,370.03</td>\n",
       "      <td>$2,055.05</td>\n",
       "      <td>$2,740.06</td>\n",
       "      <td>$4,110.09</td>\n",
       "    </tr>\n",
       "    <tr>\n",
       "      <th>6</th>\n",
       "      <td>570</td>\n",
       "      <td>5</td>\n",
       "      <td>$6,064.10</td>\n",
       "      <td>$606.41</td>\n",
       "      <td>$909.62</td>\n",
       "      <td>$1,212.82</td>\n",
       "      <td>$1,819.23</td>\n",
       "    </tr>\n",
       "    <tr>\n",
       "      <th>...</th>\n",
       "      <th>...</th>\n",
       "      <td>...</td>\n",
       "      <td>...</td>\n",
       "      <td>...</td>\n",
       "      <td>...</td>\n",
       "      <td>...</td>\n",
       "      <td>...</td>\n",
       "      <td>...</td>\n",
       "    </tr>\n",
       "    <tr>\n",
       "      <th>838502174</th>\n",
       "      <th>1</th>\n",
       "      <td>168</td>\n",
       "      <td>81</td>\n",
       "      <td>$23.59</td>\n",
       "      <td>$2.36</td>\n",
       "      <td>$3.54</td>\n",
       "      <td>$4.72</td>\n",
       "      <td>$7.08</td>\n",
       "    </tr>\n",
       "    <tr>\n",
       "      <th rowspan=\"3\" valign=\"top\">838502307</th>\n",
       "      <th>4</th>\n",
       "      <td>234</td>\n",
       "      <td>21</td>\n",
       "      <td>$8.80</td>\n",
       "      <td>$0.88</td>\n",
       "      <td>$1.32</td>\n",
       "      <td>$1.76</td>\n",
       "      <td>$2.64</td>\n",
       "    </tr>\n",
       "    <tr>\n",
       "      <th>5</th>\n",
       "      <td>234</td>\n",
       "      <td>21</td>\n",
       "      <td>$8.99</td>\n",
       "      <td>$0.90</td>\n",
       "      <td>$1.35</td>\n",
       "      <td>$1.80</td>\n",
       "      <td>$2.70</td>\n",
       "    </tr>\n",
       "    <tr>\n",
       "      <th>7</th>\n",
       "      <td>468</td>\n",
       "      <td>42</td>\n",
       "      <td>$46.11</td>\n",
       "      <td>$4.61</td>\n",
       "      <td>$6.92</td>\n",
       "      <td>$9.22</td>\n",
       "      <td>$13.83</td>\n",
       "    </tr>\n",
       "    <tr>\n",
       "      <th>838502409</th>\n",
       "      <th>1</th>\n",
       "      <td>702</td>\n",
       "      <td>37</td>\n",
       "      <td>$7.22</td>\n",
       "      <td>$0.72</td>\n",
       "      <td>$1.08</td>\n",
       "      <td>$1.44</td>\n",
       "      <td>$2.17</td>\n",
       "    </tr>\n",
       "  </tbody>\n",
       "</table>\n",
       "<p>470809 rows × 7 columns</p>\n",
       "</div>"
      ],
      "text/plain": [
       "                Country_ID  VendorID       Bets  portion0.1  portion0.15  \\\n",
       "CID       week                                                             \n",
       "35485     1            798         7 $18,492.08   $1,849.21    $2,773.81   \n",
       "          2            684         6 $12,140.98   $1,214.10    $1,821.15   \n",
       "          4            342         3  $6,537.30     $653.73      $980.60   \n",
       "          5            798         7 $13,700.31   $1,370.03    $2,055.05   \n",
       "          6            570         5  $6,064.10     $606.41      $909.62   \n",
       "...                    ...       ...        ...         ...          ...   \n",
       "838502174 1            168        81     $23.59       $2.36        $3.54   \n",
       "838502307 4            234        21      $8.80       $0.88        $1.32   \n",
       "          5            234        21      $8.99       $0.90        $1.35   \n",
       "          7            468        42     $46.11       $4.61        $6.92   \n",
       "838502409 1            702        37      $7.22       $0.72        $1.08   \n",
       "\n",
       "                portion0.2  portion0.3  \n",
       "CID       week                          \n",
       "35485     1      $3,698.42   $5,547.62  \n",
       "          2      $2,428.20   $3,642.29  \n",
       "          4      $1,307.46   $1,961.19  \n",
       "          5      $2,740.06   $4,110.09  \n",
       "          6      $1,212.82   $1,819.23  \n",
       "...                    ...         ...  \n",
       "838502174 1          $4.72       $7.08  \n",
       "838502307 4          $1.76       $2.64  \n",
       "          5          $1.80       $2.70  \n",
       "          7          $9.22      $13.83  \n",
       "838502409 1          $1.44       $2.17  \n",
       "\n",
       "[470809 rows x 7 columns]"
      ]
     },
     "execution_count": 275,
     "metadata": {},
     "output_type": "execute_result"
    }
   ],
   "source": [
    "weekly_per_user_bets"
   ]
  },
  {
   "cell_type": "code",
   "execution_count": 276,
   "id": "26844f6a-59b5-443e-829d-7e99e92d3e7a",
   "metadata": {},
   "outputs": [
    {
     "data": {
      "text/plain": [
       "(35485, 1)"
      ]
     },
     "execution_count": 276,
     "metadata": {},
     "output_type": "execute_result"
    }
   ],
   "source": [
    "weekly_per_user_bets.index[0]"
   ]
  },
  {
   "cell_type": "code",
   "execution_count": 277,
   "id": "7dbb6a0f-26bc-4e5c-8eae-28cde889109b",
   "metadata": {},
   "outputs": [
    {
     "data": {
      "text/plain": [
       "Country_ID       $798.00\n",
       "VendorID           $7.00\n",
       "Bets          $18,492.08\n",
       "portion0.1     $1,849.21\n",
       "portion0.15    $2,773.81\n",
       "portion0.2     $3,698.42\n",
       "portion0.3     $5,547.62\n",
       "Name: (35485, 1), dtype: float64"
      ]
     },
     "execution_count": 277,
     "metadata": {},
     "output_type": "execute_result"
    }
   ],
   "source": [
    "weekly_per_user_bets.loc[(35485, 1)]"
   ]
  },
  {
   "cell_type": "code",
   "execution_count": 278,
   "id": "0c73a0ba-a2e0-41bd-8a1f-717dc260f61a",
   "metadata": {},
   "outputs": [
    {
     "data": {
      "text/html": [
       "<div>\n",
       "<style scoped>\n",
       "    .dataframe tbody tr th:only-of-type {\n",
       "        vertical-align: middle;\n",
       "    }\n",
       "\n",
       "    .dataframe tbody tr th {\n",
       "        vertical-align: top;\n",
       "    }\n",
       "\n",
       "    .dataframe thead th {\n",
       "        text-align: right;\n",
       "    }\n",
       "</style>\n",
       "<table border=\"1\" class=\"dataframe\">\n",
       "  <thead>\n",
       "    <tr style=\"text-align: right;\">\n",
       "      <th></th>\n",
       "      <th></th>\n",
       "      <th></th>\n",
       "      <th>Country_ID</th>\n",
       "      <th>VendorID</th>\n",
       "      <th>Bets</th>\n",
       "    </tr>\n",
       "    <tr>\n",
       "      <th>CID</th>\n",
       "      <th>week</th>\n",
       "      <th>GameType_ID</th>\n",
       "      <th></th>\n",
       "      <th></th>\n",
       "      <th></th>\n",
       "    </tr>\n",
       "  </thead>\n",
       "  <tbody>\n",
       "    <tr>\n",
       "      <th rowspan=\"5\" valign=\"top\">35485</th>\n",
       "      <th>1</th>\n",
       "      <th>611</th>\n",
       "      <td>798</td>\n",
       "      <td>7</td>\n",
       "      <td>$18,492.08</td>\n",
       "    </tr>\n",
       "    <tr>\n",
       "      <th>2</th>\n",
       "      <th>611</th>\n",
       "      <td>684</td>\n",
       "      <td>6</td>\n",
       "      <td>$12,140.98</td>\n",
       "    </tr>\n",
       "    <tr>\n",
       "      <th>4</th>\n",
       "      <th>611</th>\n",
       "      <td>342</td>\n",
       "      <td>3</td>\n",
       "      <td>$6,537.30</td>\n",
       "    </tr>\n",
       "    <tr>\n",
       "      <th>5</th>\n",
       "      <th>611</th>\n",
       "      <td>798</td>\n",
       "      <td>7</td>\n",
       "      <td>$13,700.31</td>\n",
       "    </tr>\n",
       "    <tr>\n",
       "      <th>6</th>\n",
       "      <th>611</th>\n",
       "      <td>570</td>\n",
       "      <td>5</td>\n",
       "      <td>$6,064.10</td>\n",
       "    </tr>\n",
       "    <tr>\n",
       "      <th>...</th>\n",
       "      <th>...</th>\n",
       "      <th>...</th>\n",
       "      <td>...</td>\n",
       "      <td>...</td>\n",
       "      <td>...</td>\n",
       "    </tr>\n",
       "    <tr>\n",
       "      <th rowspan=\"2\" valign=\"top\">838502307</th>\n",
       "      <th>5</th>\n",
       "      <th>1035</th>\n",
       "      <td>234</td>\n",
       "      <td>21</td>\n",
       "      <td>$8.99</td>\n",
       "    </tr>\n",
       "    <tr>\n",
       "      <th>7</th>\n",
       "      <th>1035</th>\n",
       "      <td>468</td>\n",
       "      <td>42</td>\n",
       "      <td>$46.11</td>\n",
       "    </tr>\n",
       "    <tr>\n",
       "      <th rowspan=\"3\" valign=\"top\">838502409</th>\n",
       "      <th rowspan=\"3\" valign=\"top\">1</th>\n",
       "      <th>438</th>\n",
       "      <td>234</td>\n",
       "      <td>1</td>\n",
       "      <td>$2.33</td>\n",
       "    </tr>\n",
       "    <tr>\n",
       "      <th>483</th>\n",
       "      <td>234</td>\n",
       "      <td>1</td>\n",
       "      <td>$2.13</td>\n",
       "    </tr>\n",
       "    <tr>\n",
       "      <th>954</th>\n",
       "      <td>234</td>\n",
       "      <td>35</td>\n",
       "      <td>$2.76</td>\n",
       "    </tr>\n",
       "  </tbody>\n",
       "</table>\n",
       "<p>2506620 rows × 3 columns</p>\n",
       "</div>"
      ],
      "text/plain": [
       "                            Country_ID  VendorID       Bets\n",
       "CID       week GameType_ID                                 \n",
       "35485     1    611                 798         7 $18,492.08\n",
       "          2    611                 684         6 $12,140.98\n",
       "          4    611                 342         3  $6,537.30\n",
       "          5    611                 798         7 $13,700.31\n",
       "          6    611                 570         5  $6,064.10\n",
       "...                                ...       ...        ...\n",
       "838502307 5    1035                234        21      $8.99\n",
       "          7    1035                468        42     $46.11\n",
       "838502409 1    438                 234         1      $2.33\n",
       "               483                 234         1      $2.13\n",
       "               954                 234        35      $2.76\n",
       "\n",
       "[2506620 rows x 3 columns]"
      ]
     },
     "execution_count": 278,
     "metadata": {},
     "output_type": "execute_result"
    }
   ],
   "source": [
    "weekly_per_user_and_game_bets"
   ]
  },
  {
   "cell_type": "markdown",
   "id": "33a9b185-0310-434f-bfe1-b916840a2375",
   "metadata": {},
   "source": [
    "Per-user ratings relative to weekly spend:\n",
    "\n",
    "```python\n",
    "5: (v >= weekly_stats['portion0.3'] AND v > 10) OR (v > 1000)\n",
    "\n",
    "4: (v >= weekly_stats['portion0.2'] AND v >  7) OR (v >  500)\n",
    "\n",
    "3: (v >= weekly_stats['portion0.15'] AND v >  5) OR (v >  300)\n",
    "\n",
    "2: (v >= weekly_stats['portion0.1'] AND v >  1) OR (v >  100)\n",
    "\n",
    "1: else\n",
    "```"
   ]
  },
  {
   "cell_type": "code",
   "execution_count": 279,
   "id": "f4bae29d-938d-48f7-ba48-cbf0c7b8f7cc",
   "metadata": {},
   "outputs": [],
   "source": [
    "def _get_rating_from_row(row: pd.Series) -> int:\n",
    "    v = row[Col.BETS]\n",
    "    user, week, game = row.name\n",
    "    weekly_stats = weekly_per_user_bets.loc[(user, week)]\n",
    "    if (v >= weekly_stats['portion0.3']  and v > 10) or (v > 1000):\n",
    "        return 5\n",
    "    if (v >= weekly_stats['portion0.2']  and v > 7 ) or (v >  500):\n",
    "        return 4\n",
    "    if (v >= weekly_stats['portion0.15'] and v >  5) or (v >  300):\n",
    "        return 3\n",
    "    if (v >= weekly_stats['portion0.1']  and v >  1) or (v >  100):\n",
    "        return 2\n",
    "    return 1"
   ]
  },
  {
   "cell_type": "code",
   "execution_count": 280,
   "id": "0b0336d2-de60-4e02-bcd1-b47a9ee361dc",
   "metadata": {},
   "outputs": [],
   "source": [
    "bet2rating = pdp.ApplyToRows(\n",
    "    func=_get_rating_from_row,\n",
    "    colname=Col.RATING,\n",
    ")"
   ]
  },
  {
   "cell_type": "code",
   "execution_count": 281,
   "id": "f77f466d-ae87-46a4-aa97-8110fb4ab679",
   "metadata": {},
   "outputs": [
    {
     "name": "stdout",
     "output_type": "stream",
     "text": [
      "- Generating a column with a function .\n"
     ]
    }
   ],
   "source": [
    "weekly_per_user_and_game_bets = bet2rating(weekly_per_user_and_game_bets, verbose=True)"
   ]
  },
  {
   "cell_type": "code",
   "execution_count": 282,
   "id": "87116079-9452-4fba-99ab-99c1d33a090d",
   "metadata": {},
   "outputs": [
    {
     "data": {
      "text/html": [
       "<div>\n",
       "<style scoped>\n",
       "    .dataframe tbody tr th:only-of-type {\n",
       "        vertical-align: middle;\n",
       "    }\n",
       "\n",
       "    .dataframe tbody tr th {\n",
       "        vertical-align: top;\n",
       "    }\n",
       "\n",
       "    .dataframe thead th {\n",
       "        text-align: right;\n",
       "    }\n",
       "</style>\n",
       "<table border=\"1\" class=\"dataframe\">\n",
       "  <thead>\n",
       "    <tr style=\"text-align: right;\">\n",
       "      <th></th>\n",
       "      <th></th>\n",
       "      <th></th>\n",
       "      <th>Country_ID</th>\n",
       "      <th>VendorID</th>\n",
       "      <th>Bets</th>\n",
       "      <th>rating</th>\n",
       "    </tr>\n",
       "    <tr>\n",
       "      <th>CID</th>\n",
       "      <th>week</th>\n",
       "      <th>GameType_ID</th>\n",
       "      <th></th>\n",
       "      <th></th>\n",
       "      <th></th>\n",
       "      <th></th>\n",
       "    </tr>\n",
       "  </thead>\n",
       "  <tbody>\n",
       "    <tr>\n",
       "      <th rowspan=\"5\" valign=\"top\">35485</th>\n",
       "      <th>1</th>\n",
       "      <th>611</th>\n",
       "      <td>798</td>\n",
       "      <td>7</td>\n",
       "      <td>$18,492.08</td>\n",
       "      <td>5</td>\n",
       "    </tr>\n",
       "    <tr>\n",
       "      <th>2</th>\n",
       "      <th>611</th>\n",
       "      <td>684</td>\n",
       "      <td>6</td>\n",
       "      <td>$12,140.98</td>\n",
       "      <td>5</td>\n",
       "    </tr>\n",
       "    <tr>\n",
       "      <th>4</th>\n",
       "      <th>611</th>\n",
       "      <td>342</td>\n",
       "      <td>3</td>\n",
       "      <td>$6,537.30</td>\n",
       "      <td>5</td>\n",
       "    </tr>\n",
       "    <tr>\n",
       "      <th>5</th>\n",
       "      <th>611</th>\n",
       "      <td>798</td>\n",
       "      <td>7</td>\n",
       "      <td>$13,700.31</td>\n",
       "      <td>5</td>\n",
       "    </tr>\n",
       "    <tr>\n",
       "      <th>6</th>\n",
       "      <th>611</th>\n",
       "      <td>570</td>\n",
       "      <td>5</td>\n",
       "      <td>$6,064.10</td>\n",
       "      <td>5</td>\n",
       "    </tr>\n",
       "    <tr>\n",
       "      <th>...</th>\n",
       "      <th>...</th>\n",
       "      <th>...</th>\n",
       "      <td>...</td>\n",
       "      <td>...</td>\n",
       "      <td>...</td>\n",
       "      <td>...</td>\n",
       "    </tr>\n",
       "    <tr>\n",
       "      <th rowspan=\"2\" valign=\"top\">838502307</th>\n",
       "      <th>5</th>\n",
       "      <th>1035</th>\n",
       "      <td>234</td>\n",
       "      <td>21</td>\n",
       "      <td>$8.99</td>\n",
       "      <td>4</td>\n",
       "    </tr>\n",
       "    <tr>\n",
       "      <th>7</th>\n",
       "      <th>1035</th>\n",
       "      <td>468</td>\n",
       "      <td>42</td>\n",
       "      <td>$46.11</td>\n",
       "      <td>5</td>\n",
       "    </tr>\n",
       "    <tr>\n",
       "      <th rowspan=\"3\" valign=\"top\">838502409</th>\n",
       "      <th rowspan=\"3\" valign=\"top\">1</th>\n",
       "      <th>438</th>\n",
       "      <td>234</td>\n",
       "      <td>1</td>\n",
       "      <td>$2.33</td>\n",
       "      <td>2</td>\n",
       "    </tr>\n",
       "    <tr>\n",
       "      <th>483</th>\n",
       "      <td>234</td>\n",
       "      <td>1</td>\n",
       "      <td>$2.13</td>\n",
       "      <td>2</td>\n",
       "    </tr>\n",
       "    <tr>\n",
       "      <th>954</th>\n",
       "      <td>234</td>\n",
       "      <td>35</td>\n",
       "      <td>$2.76</td>\n",
       "      <td>2</td>\n",
       "    </tr>\n",
       "  </tbody>\n",
       "</table>\n",
       "<p>2506620 rows × 4 columns</p>\n",
       "</div>"
      ],
      "text/plain": [
       "                            Country_ID  VendorID       Bets  rating\n",
       "CID       week GameType_ID                                         \n",
       "35485     1    611                 798         7 $18,492.08       5\n",
       "          2    611                 684         6 $12,140.98       5\n",
       "          4    611                 342         3  $6,537.30       5\n",
       "          5    611                 798         7 $13,700.31       5\n",
       "          6    611                 570         5  $6,064.10       5\n",
       "...                                ...       ...        ...     ...\n",
       "838502307 5    1035                234        21      $8.99       4\n",
       "          7    1035                468        42     $46.11       5\n",
       "838502409 1    438                 234         1      $2.33       2\n",
       "               483                 234         1      $2.13       2\n",
       "               954                 234        35      $2.76       2\n",
       "\n",
       "[2506620 rows x 4 columns]"
      ]
     },
     "execution_count": 282,
     "metadata": {},
     "output_type": "execute_result"
    }
   ],
   "source": [
    "weekly_per_user_and_game_bets"
   ]
  },
  {
   "cell_type": "code",
   "execution_count": 283,
   "id": "8a0dfee6-2861-4a62-a2aa-d5d1a975b53f",
   "metadata": {},
   "outputs": [
    {
     "data": {
      "text/plain": [
       "<AxesSubplot:>"
      ]
     },
     "execution_count": 283,
     "metadata": {},
     "output_type": "execute_result"
    },
    {
     "data": {
      "image/png": "[encoded data removed]",
      "text/plain": [
       "<Figure size 432x288 with 1 Axes>"
      ]
     },
     "metadata": {
      "needs_background": "light"
     },
     "output_type": "display_data"
    }
   ],
   "source": [
    "weekly_per_user_and_game_bets[Col.RATING].hist()"
   ]
  },
  {
   "cell_type": "code",
   "execution_count": 285,
   "id": "65f2afb4-6372-42bd-b557-77fa4085e1f4",
   "metadata": {},
   "outputs": [],
   "source": [
    "import pickle"
   ]
  },
  {
   "cell_type": "code",
   "execution_count": 284,
   "id": "7cc11b59-d998-4c34-8cae-ab20f8b6e45d",
   "metadata": {},
   "outputs": [],
   "source": [
    "with open('weekly_per_user_and_game_bets.pkl', 'wb+') as f:\n",
    "    pickle.dump(weekly_per_user_and_game_bets, f)"
   ]
  },
  {
   "cell_type": "code",
   "execution_count": 286,
   "id": "2a57c3d9-77eb-45f8-8c56-59d72ac89693",
   "metadata": {},
   "outputs": [
    {
     "data": {
      "text/html": [
       "<div>\n",
       "<style scoped>\n",
       "    .dataframe tbody tr th:only-of-type {\n",
       "        vertical-align: middle;\n",
       "    }\n",
       "\n",
       "    .dataframe tbody tr th {\n",
       "        vertical-align: top;\n",
       "    }\n",
       "\n",
       "    .dataframe thead th {\n",
       "        text-align: right;\n",
       "    }\n",
       "</style>\n",
       "<table border=\"1\" class=\"dataframe\">\n",
       "  <thead>\n",
       "    <tr style=\"text-align: right;\">\n",
       "      <th></th>\n",
       "      <th></th>\n",
       "      <th></th>\n",
       "      <th>Country_ID</th>\n",
       "      <th>VendorID</th>\n",
       "      <th>Bets</th>\n",
       "      <th>rating</th>\n",
       "    </tr>\n",
       "    <tr>\n",
       "      <th>CID</th>\n",
       "      <th>week</th>\n",
       "      <th>GameType_ID</th>\n",
       "      <th></th>\n",
       "      <th></th>\n",
       "      <th></th>\n",
       "      <th></th>\n",
       "    </tr>\n",
       "  </thead>\n",
       "  <tbody>\n",
       "    <tr>\n",
       "      <th rowspan=\"5\" valign=\"top\">35485</th>\n",
       "      <th>1</th>\n",
       "      <th>611</th>\n",
       "      <td>798</td>\n",
       "      <td>7</td>\n",
       "      <td>$18,492.08</td>\n",
       "      <td>5</td>\n",
       "    </tr>\n",
       "    <tr>\n",
       "      <th>2</th>\n",
       "      <th>611</th>\n",
       "      <td>684</td>\n",
       "      <td>6</td>\n",
       "      <td>$12,140.98</td>\n",
       "      <td>5</td>\n",
       "    </tr>\n",
       "    <tr>\n",
       "      <th>4</th>\n",
       "      <th>611</th>\n",
       "      <td>342</td>\n",
       "      <td>3</td>\n",
       "      <td>$6,537.30</td>\n",
       "      <td>5</td>\n",
       "    </tr>\n",
       "    <tr>\n",
       "      <th>5</th>\n",
       "      <th>611</th>\n",
       "      <td>798</td>\n",
       "      <td>7</td>\n",
       "      <td>$13,700.31</td>\n",
       "      <td>5</td>\n",
       "    </tr>\n",
       "    <tr>\n",
       "      <th>6</th>\n",
       "      <th>611</th>\n",
       "      <td>570</td>\n",
       "      <td>5</td>\n",
       "      <td>$6,064.10</td>\n",
       "      <td>5</td>\n",
       "    </tr>\n",
       "    <tr>\n",
       "      <th>...</th>\n",
       "      <th>...</th>\n",
       "      <th>...</th>\n",
       "      <td>...</td>\n",
       "      <td>...</td>\n",
       "      <td>...</td>\n",
       "      <td>...</td>\n",
       "    </tr>\n",
       "    <tr>\n",
       "      <th rowspan=\"2\" valign=\"top\">838502307</th>\n",
       "      <th>5</th>\n",
       "      <th>1035</th>\n",
       "      <td>234</td>\n",
       "      <td>21</td>\n",
       "      <td>$8.99</td>\n",
       "      <td>4</td>\n",
       "    </tr>\n",
       "    <tr>\n",
       "      <th>7</th>\n",
       "      <th>1035</th>\n",
       "      <td>468</td>\n",
       "      <td>42</td>\n",
       "      <td>$46.11</td>\n",
       "      <td>5</td>\n",
       "    </tr>\n",
       "    <tr>\n",
       "      <th rowspan=\"3\" valign=\"top\">838502409</th>\n",
       "      <th rowspan=\"3\" valign=\"top\">1</th>\n",
       "      <th>438</th>\n",
       "      <td>234</td>\n",
       "      <td>1</td>\n",
       "      <td>$2.33</td>\n",
       "      <td>2</td>\n",
       "    </tr>\n",
       "    <tr>\n",
       "      <th>483</th>\n",
       "      <td>234</td>\n",
       "      <td>1</td>\n",
       "      <td>$2.13</td>\n",
       "      <td>2</td>\n",
       "    </tr>\n",
       "    <tr>\n",
       "      <th>954</th>\n",
       "      <td>234</td>\n",
       "      <td>35</td>\n",
       "      <td>$2.76</td>\n",
       "      <td>2</td>\n",
       "    </tr>\n",
       "  </tbody>\n",
       "</table>\n",
       "<p>2506620 rows × 4 columns</p>\n",
       "</div>"
      ],
      "text/plain": [
       "                            Country_ID  VendorID       Bets  rating\n",
       "CID       week GameType_ID                                         \n",
       "35485     1    611                 798         7 $18,492.08       5\n",
       "          2    611                 684         6 $12,140.98       5\n",
       "          4    611                 342         3  $6,537.30       5\n",
       "          5    611                 798         7 $13,700.31       5\n",
       "          6    611                 570         5  $6,064.10       5\n",
       "...                                ...       ...        ...     ...\n",
       "838502307 5    1035                234        21      $8.99       4\n",
       "          7    1035                468        42     $46.11       5\n",
       "838502409 1    438                 234         1      $2.33       2\n",
       "               483                 234         1      $2.13       2\n",
       "               954                 234        35      $2.76       2\n",
       "\n",
       "[2506620 rows x 4 columns]"
      ]
     },
     "execution_count": 286,
     "metadata": {},
     "output_type": "execute_result"
    }
   ],
   "source": [
    "weekly_per_user_and_game_bets"
   ]
  },
  {
   "cell_type": "code",
   "execution_count": null,
   "id": "87ae9eb9-7d38-4a70-833f-9dcf8af36818",
   "metadata": {},
   "outputs": [],
   "source": []
  }
 ],
 "metadata": {
  "kernelspec": {
   "display_name": "py3",
   "language": "python",
   "name": "py3"
  },
  "language_info": {
   "codemirror_mode": {
    "name": "ipython",
    "version": 3
   },
   "file_extension": ".py",
   "mimetype": "text/x-python",
   "name": "python",
   "nbconvert_exporter": "python",
   "pygments_lexer": "ipython3",
   "version": "3.10.2"
  }
 },
 "nbformat": 4,
 "nbformat_minor": 5
}
